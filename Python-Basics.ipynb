{
  "nbformat": 4,
  "nbformat_minor": 0,
  "metadata": {
    "colab": {
      "provenance": [],
      "collapsed_sections": [
        "eMf9NtSDNLf-"
      ],
      "machine_shape": "hm",
      "include_colab_link": true
    },
    "kernelspec": {
      "name": "python3",
      "display_name": "Python 3"
    },
    "language_info": {
      "name": "python"
    },
    "gpuClass": "standard"
  },
  "cells": [
    {
      "cell_type": "markdown",
      "metadata": {
        "id": "view-in-github",
        "colab_type": "text"
      },
      "source": [
        "<a href=\"https://colab.research.google.com/github/tallerzalan/News-and-Market-Sentiment-Analysis/blob/main/Python-Basics.ipynb\" target=\"_parent\"><img src=\"https://colab.research.google.com/assets/colab-badge.svg\" alt=\"Open In Colab\"/></a>"
      ]
    },
    {
      "cell_type": "markdown",
      "source": [
        "# Lecture 2 Lab Session: Python Basics\n",
        "\n",
        "---\n",
        "\n",
        "Python Fundamentals:\n",
        "\n",
        "\n",
        "*   Python Files and Modules\n",
        "*   Variables and Types in Python\n",
        "*   Data Structures: strings, lists, tuples, dictionaries\n",
        "*   Conditional statements: if, elif, else\n",
        "*   Functions\n",
        "*   Data frames"
      ],
      "metadata": {
        "id": "j53z2GKZaG7F"
      }
    },
    {
      "cell_type": "markdown",
      "source": [
        "# Python Files\n",
        "\n",
        "---\n",
        "\n",
        "*   Python code files have extension py (my_code.py). Jupiter notebook files have extension ipynb (my_code.ipynb) \n",
        "*    Execute with python interpreter $ python myprogram.py\n",
        "\n",
        "\n",
        "---\n",
        "#IDE suitable for running python code\n",
        "\n",
        "\n",
        "*   Jupiter Notebook\n",
        "*   Spyder\n",
        "*   PyCharm\n",
        "*   Visual Studio Code"
      ],
      "metadata": {
        "id": "TZ6NdukQfEZe"
      }
    },
    {
      "cell_type": "markdown",
      "source": [
        "#Python Modules\n",
        "\n",
        "---\n",
        "*   Modules are files with containing Python code\n",
        "*   Using Modules requires to import them first using the import statement"
      ],
      "metadata": {
        "id": "tA_bWb0lxA3A"
      }
    },
    {
      "cell_type": "markdown",
      "source": [
        "Import module"
      ],
      "metadata": {
        "id": "qFGK7y6W2eoR"
      }
    },
    {
      "cell_type": "code",
      "source": [
        "import math\n",
        "import numpy\n",
        "import matplotlib.pyplot"
      ],
      "metadata": {
        "id": "hl9DDQuU2nlg"
      },
      "execution_count": 24,
      "outputs": []
    },
    {
      "cell_type": "code",
      "source": [
        "x = math.cos(math.pi)\n",
        "y = math.sin(math.pi / 2)\n",
        "\n",
        "print (f'The value of cosine of pi is: {x}')\n",
        "\n",
        "print (f'The value of sine of pi/2 is: {y}')"
      ],
      "metadata": {
        "id": "sfYUegRHj15e",
        "colab": {
          "base_uri": "https://localhost:8080/"
        },
        "outputId": "b451cbc1-bd22-4562-c909-cbf9e21addba"
      },
      "execution_count": 25,
      "outputs": [
        {
          "output_type": "stream",
          "name": "stdout",
          "text": [
            "The value of cosine of pi is: -1.0\n",
            "The value of sine of pi/2 is: 1.0\n"
          ]
        }
      ]
    },
    {
      "cell_type": "code",
      "source": [
        "def f(x):\n",
        "   return numpy.sin(x)\n",
        "\n",
        "x = numpy.linspace(-10, 10, 100)\n",
        "\n",
        "matplotlib.pyplot.plot(x, f(x), color = 'blue')\n",
        "\n",
        "matplotlib.pyplot.title(\"Y = sin(x)\") \n",
        "matplotlib.pyplot.xlabel(\"X\") \n",
        "matplotlib.pyplot.ylabel(\"Y\") \n",
        "matplotlib.pyplot.show()"
      ],
      "metadata": {
        "id": "dhsMh8b12-aJ",
        "colab": {
          "base_uri": "https://localhost:8080/",
          "height": 295
        },
        "outputId": "8b13fd59-99c5-44af-ffd5-6a0018afeec4"
      },
      "execution_count": 26,
      "outputs": [
        {
          "output_type": "display_data",
          "data": {
            "text/plain": [
              "<Figure size 432x288 with 1 Axes>"
            ],
            "image/png": "[encoded data removed]"
          },
          "metadata": {
            "needs_background": "light"
          }
        }
      ]
    },
    {
      "cell_type": "markdown",
      "source": [
        "Changing the Name/Namespace of a Functions/Modules at Import"
      ],
      "metadata": {
        "id": "-ozprTDLD4k7"
      }
    },
    {
      "cell_type": "code",
      "source": [
        "import numpy as np\n",
        "import matplotlib.pyplot as plt\n",
        "\n",
        "def g(x):\n",
        "   return np.cos(x)\n",
        "\n",
        "plt.plot(x, g(x), color = 'red')\n",
        "\n",
        "plt.title(\"Y = cos(x)\") \n",
        "plt.xlabel(\"X\") \n",
        "plt.ylabel(\"Y\") \n",
        "plt.show()\n"
      ],
      "metadata": {
        "id": "ykOXEzjKD8AK",
        "colab": {
          "base_uri": "https://localhost:8080/",
          "height": 295
        },
        "outputId": "bf2bcf5f-fabd-4b2c-f814-dbeaf3c8b481"
      },
      "execution_count": 27,
      "outputs": [
        {
          "output_type": "display_data",
          "data": {
            "text/plain": [
              "<Figure size 432x288 with 1 Axes>"
            ],
            "image/png": "[encoded data removed]"
          },
          "metadata": {
            "needs_background": "light"
          }
        }
      ]
    },
    {
      "cell_type": "markdown",
      "source": [
        "Get information about the function using help()"
      ],
      "metadata": {
        "id": "mlsaezfDKyIk"
      }
    },
    {
      "cell_type": "code",
      "source": [
        "help(math.sin)"
      ],
      "metadata": {
        "id": "v37lmfYAKno7",
        "colab": {
          "base_uri": "https://localhost:8080/"
        },
        "outputId": "a56c0e88-ff5d-4193-b549-22c696e1acc9"
      },
      "execution_count": 28,
      "outputs": [
        {
          "output_type": "stream",
          "name": "stdout",
          "text": [
            "Help on built-in function sin in module math:\n",
            "\n",
            "sin(x, /)\n",
            "    Return the sine of x (measured in radians).\n",
            "\n"
          ]
        }
      ]
    },
    {
      "cell_type": "markdown",
      "source": [
        "Assignment operator and variable types"
      ],
      "metadata": {
        "id": "RCMJNaZtL5I8"
      }
    },
    {
      "cell_type": "code",
      "source": [
        "x = 20\n",
        "print(type(x))"
      ],
      "metadata": {
        "id": "zg73kndGMBnz",
        "colab": {
          "base_uri": "https://localhost:8080/"
        },
        "outputId": "a6d20528-e0b6-4445-eee2-1b0a9ac5df0d"
      },
      "execution_count": 29,
      "outputs": [
        {
          "output_type": "stream",
          "name": "stdout",
          "text": [
            "<class 'int'>\n"
          ]
        }
      ]
    },
    {
      "cell_type": "code",
      "source": [
        "s = 'Hello'\n",
        "print(type(s))"
      ],
      "metadata": {
        "id": "ClQjBLcvMF6D",
        "colab": {
          "base_uri": "https://localhost:8080/"
        },
        "outputId": "2f267500-8dd2-46f4-fe4e-0b72e34a27f5"
      },
      "execution_count": 30,
      "outputs": [
        {
          "output_type": "stream",
          "name": "stdout",
          "text": [
            "<class 'str'>\n"
          ]
        }
      ]
    },
    {
      "cell_type": "code",
      "source": [
        "l = True\n",
        "print(type(l))"
      ],
      "metadata": {
        "id": "iG7ea1o_MMyL",
        "colab": {
          "base_uri": "https://localhost:8080/"
        },
        "outputId": "153d4a9c-6e7a-4a70-eb37-1016d2631443"
      },
      "execution_count": 31,
      "outputs": [
        {
          "output_type": "stream",
          "name": "stdout",
          "text": [
            "<class 'bool'>\n"
          ]
        }
      ]
    },
    {
      "cell_type": "markdown",
      "source": [
        "Check variable type"
      ],
      "metadata": {
        "id": "p43QUSxiMl7M"
      }
    },
    {
      "cell_type": "code",
      "source": [
        "isinstance(x, float)\n"
      ],
      "metadata": {
        "id": "PeneesZiMdyj",
        "colab": {
          "base_uri": "https://localhost:8080/"
        },
        "outputId": "3640ea61-433e-4063-fa6e-29d88f3230de"
      },
      "execution_count": 32,
      "outputs": [
        {
          "output_type": "execute_result",
          "data": {
            "text/plain": [
              "False"
            ]
          },
          "metadata": {},
          "execution_count": 32
        }
      ]
    },
    {
      "cell_type": "code",
      "source": [
        "isinstance(x, int)"
      ],
      "metadata": {
        "id": "naMmcqQ9MrAL",
        "colab": {
          "base_uri": "https://localhost:8080/"
        },
        "outputId": "98b53d05-b84b-41c0-880c-ab06f63f1561"
      },
      "execution_count": 33,
      "outputs": [
        {
          "output_type": "execute_result",
          "data": {
            "text/plain": [
              "True"
            ]
          },
          "metadata": {},
          "execution_count": 33
        }
      ]
    },
    {
      "cell_type": "markdown",
      "source": [
        "# Operators and Comparisons\n",
        "\n",
        "\n",
        "*   Arithmetic operators\n",
        "*   Boolean Operators\n",
        "*   Comparison Operators"
      ],
      "metadata": {
        "id": "eMf9NtSDNLf-"
      }
    },
    {
      "cell_type": "code",
      "source": [
        "2 + 2"
      ],
      "metadata": {
        "id": "OoCr-uYHM8Ir",
        "colab": {
          "base_uri": "https://localhost:8080/"
        },
        "outputId": "96020ab5-9543-46c3-9a0e-8ef259b26aa3"
      },
      "execution_count": 34,
      "outputs": [
        {
          "output_type": "execute_result",
          "data": {
            "text/plain": [
              "4"
            ]
          },
          "metadata": {},
          "execution_count": 34
        }
      ]
    },
    {
      "cell_type": "code",
      "source": [
        "2 / 2"
      ],
      "metadata": {
        "id": "x50Z2F1hNdcL",
        "colab": {
          "base_uri": "https://localhost:8080/"
        },
        "outputId": "59817ebe-e36a-444c-ed67-ff337a7742e0"
      },
      "execution_count": 35,
      "outputs": [
        {
          "output_type": "execute_result",
          "data": {
            "text/plain": [
              "1.0"
            ]
          },
          "metadata": {},
          "execution_count": 35
        }
      ]
    },
    {
      "cell_type": "code",
      "source": [
        "2 * 2"
      ],
      "metadata": {
        "id": "iUe_kHUVNi_U",
        "colab": {
          "base_uri": "https://localhost:8080/"
        },
        "outputId": "23c58907-686e-48c9-903f-becb244a7dcf"
      },
      "execution_count": 36,
      "outputs": [
        {
          "output_type": "execute_result",
          "data": {
            "text/plain": [
              "4"
            ]
          },
          "metadata": {},
          "execution_count": 36
        }
      ]
    },
    {
      "cell_type": "code",
      "source": [
        "3 ** 3"
      ],
      "metadata": {
        "id": "T-mYReTRNj6j",
        "colab": {
          "base_uri": "https://localhost:8080/"
        },
        "outputId": "e0ff2435-7f42-499a-91ad-a166752278b7"
      },
      "execution_count": 37,
      "outputs": [
        {
          "output_type": "execute_result",
          "data": {
            "text/plain": [
              "27"
            ]
          },
          "metadata": {},
          "execution_count": 37
        }
      ]
    },
    {
      "cell_type": "code",
      "source": [
        "True and True"
      ],
      "metadata": {
        "id": "Ehj6n3EQNljk",
        "colab": {
          "base_uri": "https://localhost:8080/"
        },
        "outputId": "b155d831-72c6-4b57-c6f4-97f7f2a40432"
      },
      "execution_count": 38,
      "outputs": [
        {
          "output_type": "execute_result",
          "data": {
            "text/plain": [
              "True"
            ]
          },
          "metadata": {},
          "execution_count": 38
        }
      ]
    },
    {
      "cell_type": "code",
      "source": [
        "False and True"
      ],
      "metadata": {
        "id": "OQZOCcnJNpI8",
        "colab": {
          "base_uri": "https://localhost:8080/"
        },
        "outputId": "31c1f0be-f7ee-4c09-d17a-9f281e12ed8b"
      },
      "execution_count": 39,
      "outputs": [
        {
          "output_type": "execute_result",
          "data": {
            "text/plain": [
              "False"
            ]
          },
          "metadata": {},
          "execution_count": 39
        }
      ]
    },
    {
      "cell_type": "code",
      "source": [
        "False and False"
      ],
      "metadata": {
        "id": "NutftIsBNrHs",
        "colab": {
          "base_uri": "https://localhost:8080/"
        },
        "outputId": "c398e14a-6edd-48f8-d16e-d684d99605ef"
      },
      "execution_count": 40,
      "outputs": [
        {
          "output_type": "execute_result",
          "data": {
            "text/plain": [
              "False"
            ]
          },
          "metadata": {},
          "execution_count": 40
        }
      ]
    },
    {
      "cell_type": "code",
      "source": [
        "20 == 10"
      ],
      "metadata": {
        "id": "K0oQrlplNskr",
        "colab": {
          "base_uri": "https://localhost:8080/"
        },
        "outputId": "13e28e12-5807-4191-e0c5-e7069dca33bb"
      },
      "execution_count": 41,
      "outputs": [
        {
          "output_type": "execute_result",
          "data": {
            "text/plain": [
              "False"
            ]
          },
          "metadata": {},
          "execution_count": 41
        }
      ]
    },
    {
      "cell_type": "code",
      "source": [
        "20 > 10"
      ],
      "metadata": {
        "id": "aRqOUh8AN7e7",
        "colab": {
          "base_uri": "https://localhost:8080/"
        },
        "outputId": "f8ef9a54-f508-4109-a13b-b77cf5ed616d"
      },
      "execution_count": 42,
      "outputs": [
        {
          "output_type": "execute_result",
          "data": {
            "text/plain": [
              "True"
            ]
          },
          "metadata": {},
          "execution_count": 42
        }
      ]
    },
    {
      "cell_type": "code",
      "source": [
        "n = 3\n",
        "n2 = 5\n",
        "\n",
        "if n > 0 and n2 > 0:\n",
        "    print(\"Both numbers are positive\")\n",
        "else:\n",
        "    print(\"At least one number is not positive\")"
      ],
      "metadata": {
        "id": "bSWlJ02uQCO9",
        "colab": {
          "base_uri": "https://localhost:8080/"
        },
        "outputId": "a7b17f5c-7e2f-4704-e59a-ab9b1e491f72"
      },
      "execution_count": 43,
      "outputs": [
        {
          "output_type": "stream",
          "name": "stdout",
          "text": [
            "Both numbers are positive\n"
          ]
        }
      ]
    },
    {
      "cell_type": "code",
      "source": [
        "if n > 0:\n",
        "    print(\"Positive\")\n",
        "elif n < 0:\n",
        "    print(\"Negative\")\n",
        "else:\n",
        "    print(\"Zero\")"
      ],
      "metadata": {
        "id": "zPizFjUxRn2U",
        "colab": {
          "base_uri": "https://localhost:8080/"
        },
        "outputId": "fe6bb23e-b40d-4a5a-9703-e80211abd2dc"
      },
      "execution_count": 44,
      "outputs": [
        {
          "output_type": "stream",
          "name": "stdout",
          "text": [
            "Positive\n"
          ]
        }
      ]
    },
    {
      "cell_type": "markdown",
      "source": [
        "# Data Structures\n",
        "\n",
        "\n",
        "*   Strings\n",
        "*   Lists\n",
        "*   Tuples\n",
        "*   Dictionaries"
      ],
      "metadata": {
        "id": "-KZDlfrVOBKd"
      }
    },
    {
      "cell_type": "code",
      "source": [
        "s = 'Python'\n",
        "type(s)"
      ],
      "metadata": {
        "id": "jejulKhoP0Zt",
        "colab": {
          "base_uri": "https://localhost:8080/"
        },
        "outputId": "5066d828-3bbf-40a8-cdcf-08a46c539e1c"
      },
      "execution_count": 45,
      "outputs": [
        {
          "output_type": "execute_result",
          "data": {
            "text/plain": [
              "str"
            ]
          },
          "metadata": {},
          "execution_count": 45
        }
      ]
    },
    {
      "cell_type": "code",
      "source": [
        "len(s)\n",
        "for i in range(len(s)):\n",
        "  print(i, s[i])"
      ],
      "metadata": {
        "id": "-dYZDt5WSJPU",
        "colab": {
          "base_uri": "https://localhost:8080/"
        },
        "outputId": "cc4c55cf-56a1-42f9-d38c-b850355869ab"
      },
      "execution_count": 46,
      "outputs": [
        {
          "output_type": "stream",
          "name": "stdout",
          "text": [
            "0 P\n",
            "1 y\n",
            "2 t\n",
            "3 h\n",
            "4 o\n",
            "5 n\n"
          ]
        }
      ]
    },
    {
      "cell_type": "code",
      "source": [
        "l = list(range(len(s)))\n",
        "print(l)"
      ],
      "metadata": {
        "id": "UWUErF9eSNsF",
        "colab": {
          "base_uri": "https://localhost:8080/"
        },
        "outputId": "214436b2-2fe9-43e7-bc80-337c4985e5a8"
      },
      "execution_count": 47,
      "outputs": [
        {
          "output_type": "stream",
          "name": "stdout",
          "text": [
            "[0, 1, 2, 3, 4, 5]\n"
          ]
        }
      ]
    },
    {
      "cell_type": "markdown",
      "source": [
        "Operations with strings"
      ],
      "metadata": {
        "id": "2TZVYD4RTouG"
      }
    },
    {
      "cell_type": "markdown",
      "source": [
        "![image.png](data:image/png;base64,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)"
      ],
      "metadata": {
        "id": "5_-H9tk3ThrG"
      }
    },
    {
      "cell_type": "code",
      "source": [
        "s.isalpha()"
      ],
      "metadata": {
        "id": "I786qjN7Tmzz",
        "colab": {
          "base_uri": "https://localhost:8080/"
        },
        "outputId": "467c245f-e36a-4a98-82fe-7cb851898e12"
      },
      "execution_count": 48,
      "outputs": [
        {
          "output_type": "execute_result",
          "data": {
            "text/plain": [
              "True"
            ]
          },
          "metadata": {},
          "execution_count": 48
        }
      ]
    },
    {
      "cell_type": "code",
      "source": [
        "s.isdigit()"
      ],
      "metadata": {
        "id": "-BzGAr2CT3MT",
        "colab": {
          "base_uri": "https://localhost:8080/"
        },
        "outputId": "f4384ce2-7082-4ef4-9336-14f855057afe"
      },
      "execution_count": 49,
      "outputs": [
        {
          "output_type": "execute_result",
          "data": {
            "text/plain": [
              "False"
            ]
          },
          "metadata": {},
          "execution_count": 49
        }
      ]
    },
    {
      "cell_type": "code",
      "source": [
        "s.islower()"
      ],
      "metadata": {
        "id": "9D_MTNhfT5_M",
        "colab": {
          "base_uri": "https://localhost:8080/"
        },
        "outputId": "0c6c99ec-3b44-405b-e69e-740dcd812991"
      },
      "execution_count": 50,
      "outputs": [
        {
          "output_type": "execute_result",
          "data": {
            "text/plain": [
              "False"
            ]
          },
          "metadata": {},
          "execution_count": 50
        }
      ]
    },
    {
      "cell_type": "code",
      "source": [
        "s.isspace()"
      ],
      "metadata": {
        "id": "kYZ6w4aBT-uU",
        "colab": {
          "base_uri": "https://localhost:8080/"
        },
        "outputId": "3af856c8-7cd5-485c-dd0a-024e398e2a79"
      },
      "execution_count": 51,
      "outputs": [
        {
          "output_type": "execute_result",
          "data": {
            "text/plain": [
              "False"
            ]
          },
          "metadata": {},
          "execution_count": 51
        }
      ]
    },
    {
      "cell_type": "markdown",
      "source": [
        "Converting to uppercase"
      ],
      "metadata": {
        "id": "7LbMllw8UHhm"
      }
    },
    {
      "cell_type": "code",
      "source": [
        "s2 = s.upper()\n",
        "s2.isupper()"
      ],
      "metadata": {
        "id": "GI9CMX2iUAeM",
        "colab": {
          "base_uri": "https://localhost:8080/"
        },
        "outputId": "9113e4fe-e7d3-4248-f908-a6252ef99aa6"
      },
      "execution_count": 52,
      "outputs": [
        {
          "output_type": "execute_result",
          "data": {
            "text/plain": [
              "True"
            ]
          },
          "metadata": {},
          "execution_count": 52
        }
      ]
    },
    {
      "cell_type": "code",
      "source": [
        "s2 = s.lower()\n",
        "s2.islower()"
      ],
      "metadata": {
        "id": "WwGHzXqRUUWF",
        "colab": {
          "base_uri": "https://localhost:8080/"
        },
        "outputId": "b53f260c-031f-4787-e4ad-cadb7869da11"
      },
      "execution_count": 53,
      "outputs": [
        {
          "output_type": "execute_result",
          "data": {
            "text/plain": [
              "True"
            ]
          },
          "metadata": {},
          "execution_count": 53
        }
      ]
    },
    {
      "cell_type": "code",
      "source": [
        "s.startswith('P')"
      ],
      "metadata": {
        "id": "mdvxVy9wUcBU",
        "colab": {
          "base_uri": "https://localhost:8080/"
        },
        "outputId": "ef14f9bf-74ea-4e34-a591-bc9305416ab6"
      },
      "execution_count": 54,
      "outputs": [
        {
          "output_type": "execute_result",
          "data": {
            "text/plain": [
              "True"
            ]
          },
          "metadata": {},
          "execution_count": 54
        }
      ]
    },
    {
      "cell_type": "code",
      "source": [
        "s.endswith('n')"
      ],
      "metadata": {
        "id": "-a2YtvAUUopM",
        "colab": {
          "base_uri": "https://localhost:8080/"
        },
        "outputId": "de295b73-f5a0-4b56-e972-92a640899ce9"
      },
      "execution_count": 55,
      "outputs": [
        {
          "output_type": "execute_result",
          "data": {
            "text/plain": [
              "True"
            ]
          },
          "metadata": {},
          "execution_count": 55
        }
      ]
    },
    {
      "cell_type": "markdown",
      "source": [
        "Convert a python value to a string"
      ],
      "metadata": {
        "id": "wX6dPNZNVOLu"
      }
    },
    {
      "cell_type": "code",
      "source": [
        "scores = [40, 55, 10, 12, 7]\n",
        "m = f'Min score: {min(scores)}' #the expression within curly brackets call a function on the list of scores"
      ],
      "metadata": {
        "id": "aQTFbNyNUsBc"
      },
      "execution_count": 56,
      "outputs": []
    },
    {
      "cell_type": "code",
      "source": [
        "type(m)"
      ],
      "metadata": {
        "id": "iV-Di-pWVpXc",
        "colab": {
          "base_uri": "https://localhost:8080/"
        },
        "outputId": "348f0e4e-99c6-49ed-8093-05750807bc49"
      },
      "execution_count": 57,
      "outputs": [
        {
          "output_type": "execute_result",
          "data": {
            "text/plain": [
              "str"
            ]
          },
          "metadata": {},
          "execution_count": 57
        }
      ]
    },
    {
      "cell_type": "code",
      "source": [
        "print(m)"
      ],
      "metadata": {
        "id": "LAaxcgm1VvWk",
        "colab": {
          "base_uri": "https://localhost:8080/"
        },
        "outputId": "d68757a1-5d1c-4903-f91d-0dcf08d14df0"
      },
      "execution_count": 58,
      "outputs": [
        {
          "output_type": "stream",
          "name": "stdout",
          "text": [
            "Min score: 7\n"
          ]
        }
      ]
    },
    {
      "cell_type": "code",
      "source": [
        "f'Hello {s}'"
      ],
      "metadata": {
        "id": "lDKQNhpKVyn0",
        "colab": {
          "base_uri": "https://localhost:8080/",
          "height": 35
        },
        "outputId": "6453ef51-6c1f-4f3e-c7f3-27b18054af27"
      },
      "execution_count": 59,
      "outputs": [
        {
          "output_type": "execute_result",
          "data": {
            "text/plain": [
              "'Hello Python'"
            ],
            "application/vnd.google.colaboratory.intrinsic+json": {
              "type": "string"
            }
          },
          "metadata": {},
          "execution_count": 59
        }
      ]
    },
    {
      "cell_type": "code",
      "source": [
        "def greet(name, question):\n",
        "    return f\"Hello, {name}! How's it {question}?\""
      ],
      "metadata": {
        "id": "h6Bbxbx4YC_E"
      },
      "execution_count": 61,
      "outputs": []
    },
    {
      "cell_type": "code",
      "source": [
        "greet('Victor', 'going')"
      ],
      "metadata": {
        "id": "yRpjrGarYqpV",
        "colab": {
          "base_uri": "https://localhost:8080/",
          "height": 35
        },
        "outputId": "5e8ec150-433c-413f-c72f-0092f81769d7"
      },
      "execution_count": 63,
      "outputs": [
        {
          "output_type": "execute_result",
          "data": {
            "text/plain": [
              "\"Hello, Victor! How's it going?\""
            ],
            "application/vnd.google.colaboratory.intrinsic+json": {
              "type": "string"
            }
          },
          "metadata": {},
          "execution_count": 63
        }
      ]
    },
    {
      "cell_type": "markdown",
      "source": [
        "Lists"
      ],
      "metadata": {
        "id": "lN_wcMkkZaQO"
      }
    },
    {
      "cell_type": "code",
      "source": [
        "l = [1, 2, 4, 5, 6, 10, 7, 100]"
      ],
      "metadata": {
        "id": "YYfCVKtrY49N"
      },
      "execution_count": 64,
      "outputs": []
    },
    {
      "cell_type": "code",
      "source": [
        "print(type(l))"
      ],
      "metadata": {
        "id": "7gh7W3irZKfd",
        "colab": {
          "base_uri": "https://localhost:8080/"
        },
        "outputId": "76485b9a-a835-41bb-973a-b09cbae9d249"
      },
      "execution_count": 65,
      "outputs": [
        {
          "output_type": "stream",
          "name": "stdout",
          "text": [
            "<class 'list'>\n"
          ]
        }
      ]
    },
    {
      "cell_type": "markdown",
      "source": [
        "List Indexing"
      ],
      "metadata": {
        "id": "QngPTyvQZVA_"
      }
    },
    {
      "cell_type": "code",
      "source": [
        "print(l[0:2])"
      ],
      "metadata": {
        "id": "TXsOVSnpZQ51",
        "colab": {
          "base_uri": "https://localhost:8080/"
        },
        "outputId": "7e187424-bfc0-4cda-eedd-7cea8ac83d8d"
      },
      "execution_count": 66,
      "outputs": [
        {
          "output_type": "stream",
          "name": "stdout",
          "text": [
            "[1, 2]\n"
          ]
        }
      ]
    },
    {
      "cell_type": "code",
      "source": [
        "print(l[0:])"
      ],
      "metadata": {
        "id": "V2sFY-OJZn_9",
        "colab": {
          "base_uri": "https://localhost:8080/"
        },
        "outputId": "fe00e6b3-3067-4ee5-c229-7f48bc0d3571"
      },
      "execution_count": 67,
      "outputs": [
        {
          "output_type": "stream",
          "name": "stdout",
          "text": [
            "[1, 2, 4, 5, 6, 10, 7, 100]\n"
          ]
        }
      ]
    },
    {
      "cell_type": "code",
      "source": [
        "print(l[2])"
      ],
      "metadata": {
        "id": "AQm8S2cKgvSX",
        "colab": {
          "base_uri": "https://localhost:8080/"
        },
        "outputId": "b0a3540f-fef4-4b05-e8ff-2d7c3c044836"
      },
      "execution_count": 68,
      "outputs": [
        {
          "output_type": "stream",
          "name": "stdout",
          "text": [
            "4\n"
          ]
        }
      ]
    },
    {
      "cell_type": "code",
      "source": [
        "print(l[:4])"
      ],
      "metadata": {
        "id": "ctvQUW6uZtEU",
        "colab": {
          "base_uri": "https://localhost:8080/"
        },
        "outputId": "94d4a1af-731a-4317-be30-18c291f34a34"
      },
      "execution_count": 69,
      "outputs": [
        {
          "output_type": "stream",
          "name": "stdout",
          "text": [
            "[1, 2, 4, 5]\n"
          ]
        }
      ]
    },
    {
      "cell_type": "code",
      "source": [
        "print(l[4:])"
      ],
      "metadata": {
        "id": "xXmquHeHZ9Xs",
        "colab": {
          "base_uri": "https://localhost:8080/"
        },
        "outputId": "6c427f6d-06bb-42a1-f4ac-e54cace89d2c"
      },
      "execution_count": 71,
      "outputs": [
        {
          "output_type": "stream",
          "name": "stdout",
          "text": [
            "[6, 10, 7, 100]\n"
          ]
        }
      ]
    },
    {
      "cell_type": "code",
      "source": [
        "print(l[::2])"
      ],
      "metadata": {
        "id": "s9trnoAEaOPc",
        "colab": {
          "base_uri": "https://localhost:8080/"
        },
        "outputId": "2071516f-43a2-4728-8de9-c37a9dccb102"
      },
      "execution_count": 72,
      "outputs": [
        {
          "output_type": "stream",
          "name": "stdout",
          "text": [
            "[1, 4, 6, 7]\n"
          ]
        }
      ]
    },
    {
      "cell_type": "code",
      "source": [
        "print(l[::3])"
      ],
      "metadata": {
        "id": "il_DDzUuaS7t",
        "colab": {
          "base_uri": "https://localhost:8080/"
        },
        "outputId": "f110fe55-3ab1-4723-d1e0-ba26707f74f2"
      },
      "execution_count": 73,
      "outputs": [
        {
          "output_type": "stream",
          "name": "stdout",
          "text": [
            "[1, 5, 7]\n"
          ]
        }
      ]
    },
    {
      "cell_type": "markdown",
      "source": [
        "Loops"
      ],
      "metadata": {
        "id": "gwW-jRTPlvHy"
      }
    },
    {
      "cell_type": "code",
      "source": [
        "for i in l:\n",
        "  print(i)"
      ],
      "metadata": {
        "id": "S5O8PSaQlwZJ",
        "colab": {
          "base_uri": "https://localhost:8080/"
        },
        "outputId": "7f4e6127-8f7d-4d34-8f23-e86855065baf"
      },
      "execution_count": 74,
      "outputs": [
        {
          "output_type": "stream",
          "name": "stdout",
          "text": [
            "1\n",
            "2\n",
            "4\n",
            "5\n",
            "6\n",
            "10\n",
            "7\n",
            "100\n"
          ]
        }
      ]
    },
    {
      "cell_type": "code",
      "source": [
        "i = 0\n",
        "while i < 10:\n",
        "  print(i)\n",
        "  i = i + 1"
      ],
      "metadata": {
        "id": "FKfWK03umGNh",
        "colab": {
          "base_uri": "https://localhost:8080/"
        },
        "outputId": "cb523e41-c664-491e-ac2d-abef27dd9888"
      },
      "execution_count": 76,
      "outputs": [
        {
          "output_type": "stream",
          "name": "stdout",
          "text": [
            "0\n",
            "1\n",
            "2\n",
            "3\n",
            "4\n",
            "5\n",
            "6\n",
            "7\n",
            "8\n",
            "9\n"
          ]
        }
      ]
    },
    {
      "cell_type": "markdown",
      "source": [
        "List comprehensions"
      ],
      "metadata": {
        "id": "5k8gxKqznHvo"
      }
    },
    {
      "cell_type": "code",
      "source": [
        "l_sq = [i**3 if i == 5 else i**2 for i in l]"
      ],
      "metadata": {
        "id": "abQMACwgnJBg"
      },
      "execution_count": 77,
      "outputs": []
    },
    {
      "cell_type": "code",
      "source": [
        "print(l_sq)"
      ],
      "metadata": {
        "colab": {
          "base_uri": "https://localhost:8080/"
        },
        "id": "DmAHWfGSnSUR",
        "outputId": "0b026a67-9cd9-4139-a573-728d12b70fb1"
      },
      "execution_count": 78,
      "outputs": [
        {
          "output_type": "stream",
          "name": "stdout",
          "text": [
            "[1, 4, 16, 125, 36, 100, 49, 10000]\n"
          ]
        }
      ]
    },
    {
      "cell_type": "markdown",
      "source": [
        "Lists can contain different types"
      ],
      "metadata": {
        "id": "M8f6xm1PajmH"
      }
    },
    {
      "cell_type": "code",
      "source": [
        "l2 = ['John', 20, 20.0, True]"
      ],
      "metadata": {
        "id": "TLP2jSXuaYmV"
      },
      "execution_count": 79,
      "outputs": []
    },
    {
      "cell_type": "code",
      "source": [
        "for i in range(len(l2)):\n",
        "  print(type(l2[i]))"
      ],
      "metadata": {
        "id": "V2hqoWlOayjd",
        "colab": {
          "base_uri": "https://localhost:8080/"
        },
        "outputId": "9666fdde-a38d-4fc9-eafd-174571b3d595"
      },
      "execution_count": 80,
      "outputs": [
        {
          "output_type": "stream",
          "name": "stdout",
          "text": [
            "<class 'str'>\n",
            "<class 'int'>\n",
            "<class 'float'>\n",
            "<class 'bool'>\n"
          ]
        }
      ]
    },
    {
      "cell_type": "code",
      "source": [
        "for index, x in enumerate(range(len(l2))):\n",
        "  print(index, x) # derive indices of the elements of the list"
      ],
      "metadata": {
        "id": "1RuvpiAslDES",
        "colab": {
          "base_uri": "https://localhost:8080/"
        },
        "outputId": "7e5c00e5-28fe-4a3a-8057-ec15af97341b"
      },
      "execution_count": 81,
      "outputs": [
        {
          "output_type": "stream",
          "name": "stdout",
          "text": [
            "0 0\n",
            "1 1\n",
            "2 2\n",
            "3 3\n"
          ]
        }
      ]
    },
    {
      "cell_type": "code",
      "source": [
        "nested_list = [1, [2, [3, [4, [5]]]]] # nested lists\n",
        "\n",
        "nested_list"
      ],
      "metadata": {
        "id": "HCqwetl6a6rd",
        "colab": {
          "base_uri": "https://localhost:8080/"
        },
        "outputId": "e88b8348-477c-4109-a482-2c4746b33719"
      },
      "execution_count": 82,
      "outputs": [
        {
          "output_type": "execute_result",
          "data": {
            "text/plain": [
              "[1, [2, [3, [4, [5]]]]]"
            ]
          },
          "metadata": {},
          "execution_count": 82
        }
      ]
    },
    {
      "cell_type": "code",
      "source": [
        "nested_list[1:]"
      ],
      "metadata": {
        "id": "5TOlSZMPdBrW",
        "colab": {
          "base_uri": "https://localhost:8080/"
        },
        "outputId": "20b16a84-0487-4e4a-da1d-d1b33c090725"
      },
      "execution_count": 83,
      "outputs": [
        {
          "output_type": "execute_result",
          "data": {
            "text/plain": [
              "[[2, [3, [4, [5]]]]]"
            ]
          },
          "metadata": {},
          "execution_count": 83
        }
      ]
    },
    {
      "cell_type": "code",
      "source": [
        "s2 = list(s) # converting string to a list of letters"
      ],
      "metadata": {
        "id": "9gyZOZBSdILW"
      },
      "execution_count": 84,
      "outputs": []
    },
    {
      "cell_type": "code",
      "source": [
        "print(s2)"
      ],
      "metadata": {
        "id": "f4QPhtmYdiAd",
        "colab": {
          "base_uri": "https://localhost:8080/"
        },
        "outputId": "0227a217-f05d-4666-fda1-18c5502806ad"
      },
      "execution_count": 85,
      "outputs": [
        {
          "output_type": "stream",
          "name": "stdout",
          "text": [
            "['P', 'y', 't', 'h', 'o', 'n']\n"
          ]
        }
      ]
    },
    {
      "cell_type": "code",
      "source": [
        "s2.sort() # sorting list elements"
      ],
      "metadata": {
        "id": "pN7vXP4GdjxN"
      },
      "execution_count": 86,
      "outputs": []
    },
    {
      "cell_type": "code",
      "source": [
        "print(s2)"
      ],
      "metadata": {
        "id": "5PTpBZXqdmml",
        "colab": {
          "base_uri": "https://localhost:8080/"
        },
        "outputId": "9609a154-6764-4273-c210-834651411f68"
      },
      "execution_count": 87,
      "outputs": [
        {
          "output_type": "stream",
          "name": "stdout",
          "text": [
            "['P', 'h', 'n', 'o', 't', 'y']\n"
          ]
        }
      ]
    },
    {
      "cell_type": "code",
      "source": [
        "s2 = list(s)"
      ],
      "metadata": {
        "id": "FNaWpC9qgld4"
      },
      "execution_count": null,
      "outputs": []
    },
    {
      "cell_type": "code",
      "source": [
        "l = [] # create empty list and fill it with the elements from other list\n",
        "\n",
        "for i in range(len(s2)):\n",
        "  l.append(s2[i])  #iterate over the elements of s2 and add them to new list l \n",
        "\n",
        "print(l)"
      ],
      "metadata": {
        "id": "FwuHFWA4d16l",
        "colab": {
          "base_uri": "https://localhost:8080/"
        },
        "outputId": "be6b51d7-2067-46b1-f421-5a74edadd0a4"
      },
      "execution_count": 88,
      "outputs": [
        {
          "output_type": "stream",
          "name": "stdout",
          "text": [
            "['P', 'h', 'n', 'o', 't', 'y']\n"
          ]
        }
      ]
    },
    {
      "cell_type": "code",
      "source": [
        "l.remove('h') # removing particular element from the list\n",
        "print(l)"
      ],
      "metadata": {
        "id": "OIxhWI1uelvV",
        "colab": {
          "base_uri": "https://localhost:8080/",
          "height": 184
        },
        "outputId": "c5276e9b-bba3-48dc-e0ef-c7991adaf65d"
      },
      "execution_count": 91,
      "outputs": [
        {
          "output_type": "error",
          "ename": "ValueError",
          "evalue": "ignored",
          "traceback": [
            "\u001b[0;31m---------------------------------------------------------------------------\u001b[0m",
            "\u001b[0;31mValueError\u001b[0m                                Traceback (most recent call last)",
            "\u001b[0;32m<ipython-input-91-5b321724268e>\u001b[0m in \u001b[0;36m<module>\u001b[0;34m\u001b[0m\n\u001b[0;32m----> 1\u001b[0;31m \u001b[0ml\u001b[0m\u001b[0;34m.\u001b[0m\u001b[0mremove\u001b[0m\u001b[0;34m(\u001b[0m\u001b[0;34m'h'\u001b[0m\u001b[0;34m)\u001b[0m \u001b[0;31m# removing particular element from the list\u001b[0m\u001b[0;34m\u001b[0m\u001b[0;34m\u001b[0m\u001b[0m\n\u001b[0m\u001b[1;32m      2\u001b[0m \u001b[0mprint\u001b[0m\u001b[0;34m(\u001b[0m\u001b[0ml\u001b[0m\u001b[0;34m)\u001b[0m\u001b[0;34m\u001b[0m\u001b[0;34m\u001b[0m\u001b[0m\n",
            "\u001b[0;31mValueError\u001b[0m: list.remove(x): x not in list"
          ]
        }
      ]
    },
    {
      "cell_type": "code",
      "source": [
        "del l[1] # remove element from the specific position"
      ],
      "metadata": {
        "id": "P_zpLtKfhFru"
      },
      "execution_count": 92,
      "outputs": []
    },
    {
      "cell_type": "code",
      "source": [
        "print(l)"
      ],
      "metadata": {
        "id": "Fhde_VHRhTpe",
        "colab": {
          "base_uri": "https://localhost:8080/"
        },
        "outputId": "b6ba79e0-8c97-4930-a263-9b59c2e7a564"
      },
      "execution_count": 93,
      "outputs": [
        {
          "output_type": "stream",
          "name": "stdout",
          "text": [
            "['P', 'o', 't', 'y']\n"
          ]
        }
      ]
    },
    {
      "cell_type": "markdown",
      "source": [
        "Tuples"
      ],
      "metadata": {
        "id": "onBcHsWghZGh"
      }
    },
    {
      "cell_type": "code",
      "source": [
        "tup = (1, 3, 10, 20, 100)"
      ],
      "metadata": {
        "id": "xeXBs1LvhWWu"
      },
      "execution_count": 94,
      "outputs": []
    },
    {
      "cell_type": "code",
      "source": [
        "print(type(tup))"
      ],
      "metadata": {
        "colab": {
          "base_uri": "https://localhost:8080/"
        },
        "id": "-j31L50Vhlau",
        "outputId": "d73ef3b5-a320-406c-c51d-5b631a6c4095"
      },
      "execution_count": 95,
      "outputs": [
        {
          "output_type": "stream",
          "name": "stdout",
          "text": [
            "<class 'tuple'>\n"
          ]
        }
      ]
    },
    {
      "cell_type": "code",
      "source": [
        "a, b , c, d, e = tup # unpacking tuples\n",
        "\n",
        "print(f'first element = {a}')\n",
        "\n",
        "print(f'third element = {c}')\n"
      ],
      "metadata": {
        "colab": {
          "base_uri": "https://localhost:8080/"
        },
        "id": "9iBWPi8dhnu9",
        "outputId": "c79dce8e-f849-4cc6-9b73-4f4a587a4bcf"
      },
      "execution_count": 96,
      "outputs": [
        {
          "output_type": "stream",
          "name": "stdout",
          "text": [
            "first element = 1\n",
            "third element = 10\n"
          ]
        }
      ]
    },
    {
      "cell_type": "code",
      "source": [
        "tup[0] = 9 # tuples unlike lists are inmutable"
      ],
      "metadata": {
        "id": "meuxl85oiNM-",
        "colab": {
          "base_uri": "https://localhost:8080/",
          "height": 166
        },
        "outputId": "3f31bc93-4efa-4ee9-df6e-fd8050226083"
      },
      "execution_count": 97,
      "outputs": [
        {
          "output_type": "error",
          "ename": "TypeError",
          "evalue": "ignored",
          "traceback": [
            "\u001b[0;31m---------------------------------------------------------------------------\u001b[0m",
            "\u001b[0;31mTypeError\u001b[0m                                 Traceback (most recent call last)",
            "\u001b[0;32m<ipython-input-97-1e1a8c4a4c78>\u001b[0m in \u001b[0;36m<module>\u001b[0;34m\u001b[0m\n\u001b[0;32m----> 1\u001b[0;31m \u001b[0mtup\u001b[0m\u001b[0;34m[\u001b[0m\u001b[0;36m0\u001b[0m\u001b[0;34m]\u001b[0m \u001b[0;34m=\u001b[0m \u001b[0;36m9\u001b[0m \u001b[0;31m# tuples unlike lists are inmutable\u001b[0m\u001b[0;34m\u001b[0m\u001b[0;34m\u001b[0m\u001b[0m\n\u001b[0m",
            "\u001b[0;31mTypeError\u001b[0m: 'tuple' object does not support item assignment"
          ]
        }
      ]
    },
    {
      "cell_type": "code",
      "source": [
        "l[0] = 'F'"
      ],
      "metadata": {
        "id": "lZ-g3kZEic6e"
      },
      "execution_count": 98,
      "outputs": []
    },
    {
      "cell_type": "code",
      "source": [
        "print(l)"
      ],
      "metadata": {
        "id": "XschvMRPiorO",
        "colab": {
          "base_uri": "https://localhost:8080/"
        },
        "outputId": "7debf276-2e9e-4811-c0b1-7d99bb51fc68"
      },
      "execution_count": 99,
      "outputs": [
        {
          "output_type": "stream",
          "name": "stdout",
          "text": [
            "['F', 'o', 't', 'y']\n"
          ]
        }
      ]
    },
    {
      "cell_type": "markdown",
      "source": [
        "Dictionaries"
      ],
      "metadata": {
        "id": "63Gww0kui_SQ"
      }
    },
    {
      "cell_type": "code",
      "source": [
        "dict = {'Name': ['Alex', 'John', 'Brian', 'Helena', 'Sam', 'Victor', 'Christina', 'Peter', 'Markus', 'Simone'], \n",
        "        'Age': [30, 18, 21, 31, 29, 35, 21, 34, 43, 17],\n",
        "        'Education': [14, 12, 12, 16, 15, 14, 18, 15, 16, 10]}"
      ],
      "metadata": {
        "id": "N2mb_VReiwg-"
      },
      "execution_count": 100,
      "outputs": []
    },
    {
      "cell_type": "code",
      "source": [
        "print(type(dict))"
      ],
      "metadata": {
        "id": "DOvhTYYgjY8-",
        "colab": {
          "base_uri": "https://localhost:8080/"
        },
        "outputId": "1a9f557c-e944-4560-9d57-d959f3c60b8b"
      },
      "execution_count": null,
      "outputs": [
        {
          "output_type": "stream",
          "name": "stdout",
          "text": [
            "<class 'dict'>\n"
          ]
        }
      ]
    },
    {
      "cell_type": "code",
      "source": [
        "dict[\"Name\"] += ['Olaf'] # add new elements\n",
        "dict[\"Age\"] += [27]\n",
        "dict[\"Education\"] += [14]"
      ],
      "metadata": {
        "id": "Nr6VsqwCje2u"
      },
      "execution_count": 101,
      "outputs": []
    },
    {
      "cell_type": "code",
      "source": [
        "print(dict)"
      ],
      "metadata": {
        "colab": {
          "base_uri": "https://localhost:8080/"
        },
        "id": "kde2llokjov-",
        "outputId": "6e2c6326-3fec-4f9e-b8d3-be1cdff48d5e"
      },
      "execution_count": 102,
      "outputs": [
        {
          "output_type": "stream",
          "name": "stdout",
          "text": [
            "{'Name': ['Alex', 'John', 'Brian', 'Helena', 'Sam', 'Victor', 'Christina', 'Peter', 'Markus', 'Simone', 'Olaf'], 'Age': [30, 18, 21, 31, 29, 35, 21, 34, 43, 17, 27], 'Education': [14, 12, 12, 16, 15, 14, 18, 15, 16, 10, 14]}\n"
          ]
        }
      ]
    },
    {
      "cell_type": "markdown",
      "source": [
        "# Unnamed functions (lambda function)"
      ],
      "metadata": {
        "id": "3aQMcR-JpR0i"
      }
    },
    {
      "cell_type": "code",
      "source": [
        "l = [1, 2, 3, 4, 5, 6, 10, 15]\n",
        "\n",
        "new_list = list(map(lambda x: x ** 2 , l))\n",
        "\n",
        "print(new_list)"
      ],
      "metadata": {
        "id": "6ncW5SUUsFDp",
        "colab": {
          "base_uri": "https://localhost:8080/"
        },
        "outputId": "55d771ed-7f1c-40b7-fd19-59baa3fad71e"
      },
      "execution_count": 103,
      "outputs": [
        {
          "output_type": "stream",
          "name": "stdout",
          "text": [
            "[1, 4, 9, 16, 25, 36, 100, 225]\n"
          ]
        }
      ]
    },
    {
      "cell_type": "code",
      "source": [
        "print(l)"
      ],
      "metadata": {
        "colab": {
          "base_uri": "https://localhost:8080/"
        },
        "id": "XsNqG_N9K2e4",
        "outputId": "3c47b7d2-4308-4a83-c623-906fc829362a"
      },
      "execution_count": 104,
      "outputs": [
        {
          "output_type": "stream",
          "name": "stdout",
          "text": [
            "[1, 2, 3, 4, 5, 6, 10, 15]\n"
          ]
        }
      ]
    },
    {
      "cell_type": "code",
      "source": [
        "l_str = ['John', 'William', 'Victor', 'Sam', 'Pam']\n",
        "\n",
        "l_str2 = list(filter(lambda x: (len(x) > 3) , l_str))\n",
        "\n",
        "print(l_str2)"
      ],
      "metadata": {
        "id": "MsIF1SskqtzK",
        "colab": {
          "base_uri": "https://localhost:8080/"
        },
        "outputId": "90e9f447-835e-4f85-8279-2ee4d298596d"
      },
      "execution_count": 105,
      "outputs": [
        {
          "output_type": "stream",
          "name": "stdout",
          "text": [
            "['John', 'William', 'Victor']\n"
          ]
        }
      ]
    },
    {
      "cell_type": "code",
      "source": [
        "full_name = lambda first, last: f'Full name: {first.title()} {last.title()}'\n",
        "\n",
        "full_name('zalan', 'taller')"
      ],
      "metadata": {
        "id": "I5FevHmDpW7P",
        "colab": {
          "base_uri": "https://localhost:8080/",
          "height": 35
        },
        "outputId": "ca6267e6-6756-4879-9e43-ba2e1b0e4773"
      },
      "execution_count": 107,
      "outputs": [
        {
          "output_type": "execute_result",
          "data": {
            "text/plain": [
              "'Full name: Zalan Taller'"
            ],
            "application/vnd.google.colaboratory.intrinsic+json": {
              "type": "string"
            }
          },
          "metadata": {},
          "execution_count": 107
        }
      ]
    },
    {
      "cell_type": "markdown",
      "source": [
        "# Data Frames - Pandas"
      ],
      "metadata": {
        "id": "0x1Wiu0ykt_X"
      }
    },
    {
      "cell_type": "code",
      "source": [
        "import pandas as pd"
      ],
      "metadata": {
        "id": "zDEhw8y8k8W-"
      },
      "execution_count": 108,
      "outputs": []
    },
    {
      "cell_type": "code",
      "source": [
        "data = dict"
      ],
      "metadata": {
        "id": "MoGgDSYAlt2-"
      },
      "execution_count": 109,
      "outputs": []
    },
    {
      "cell_type": "code",
      "source": [
        "df = pd.DataFrame(data)\n",
        "\n",
        "print(df)"
      ],
      "metadata": {
        "id": "C6FEazH-o254",
        "colab": {
          "base_uri": "https://localhost:8080/"
        },
        "outputId": "00a93087-398b-45d9-e16b-87aea4fc9599"
      },
      "execution_count": 110,
      "outputs": [
        {
          "output_type": "stream",
          "name": "stdout",
          "text": [
            "         Name  Age  Education\n",
            "0        Alex   30         14\n",
            "1        John   18         12\n",
            "2       Brian   21         12\n",
            "3      Helena   31         16\n",
            "4         Sam   29         15\n",
            "5      Victor   35         14\n",
            "6   Christina   21         18\n",
            "7       Peter   34         15\n",
            "8      Markus   43         16\n",
            "9      Simone   17         10\n",
            "10       Olaf   27         14\n"
          ]
        }
      ]
    },
    {
      "cell_type": "code",
      "source": [
        "df[0:2]"
      ],
      "metadata": {
        "colab": {
          "base_uri": "https://localhost:8080/",
          "height": 112
        },
        "id": "52tt76svwVYZ",
        "outputId": "251ee263-a257-410c-cf42-8241c38987d0"
      },
      "execution_count": 111,
      "outputs": [
        {
          "output_type": "execute_result",
          "data": {
            "text/plain": [
              "   Name  Age  Education\n",
              "0  Alex   30         14\n",
              "1  John   18         12"
            ],
            "text/html": [
              "\n",
              "  <div id=\"df-bd2fcf46-5a3f-4ff8-9b98-618932e14f07\">\n",
              "    <div class=\"colab-df-container\">\n",
              "      <div>\n",
              "<style scoped>\n",
              "    .dataframe tbody tr th:only-of-type {\n",
              "        vertical-align: middle;\n",
              "    }\n",
              "\n",
              "    .dataframe tbody tr th {\n",
              "        vertical-align: top;\n",
              "    }\n",
              "\n",
              "    .dataframe thead th {\n",
              "        text-align: right;\n",
              "    }\n",
              "</style>\n",
              "<table border=\"1\" class=\"dataframe\">\n",
              "  <thead>\n",
              "    <tr style=\"text-align: right;\">\n",
              "      <th></th>\n",
              "      <th>Name</th>\n",
              "      <th>Age</th>\n",
              "      <th>Education</th>\n",
              "    </tr>\n",
              "  </thead>\n",
              "  <tbody>\n",
              "    <tr>\n",
              "      <th>0</th>\n",
              "      <td>Alex</td>\n",
              "      <td>30</td>\n",
              "      <td>14</td>\n",
              "    </tr>\n",
              "    <tr>\n",
              "      <th>1</th>\n",
              "      <td>John</td>\n",
              "      <td>18</td>\n",
              "      <td>12</td>\n",
              "    </tr>\n",
              "  </tbody>\n",
              "</table>\n",
              "</div>\n",
              "      <button class=\"colab-df-convert\" onclick=\"convertToInteractive('df-bd2fcf46-5a3f-4ff8-9b98-618932e14f07')\"\n",
              "              title=\"Convert this dataframe to an interactive table.\"\n",
              "              style=\"display:none;\">\n",
              "        \n",
              "  <svg xmlns=\"http://www.w3.org/2000/svg\" height=\"24px\"viewBox=\"0 0 24 24\"\n",
              "       width=\"24px\">\n",
              "    <path d=\"M0 0h24v24H0V0z\" fill=\"none\"/>\n",
              "    <path d=\"M18.56 5.44l.94 2.06.94-2.06 2.06-.94-2.06-.94-.94-2.06-.94 2.06-2.06.94zm-11 1L8.5 8.5l.94-2.06 2.06-.94-2.06-.94L8.5 2.5l-.94 2.06-2.06.94zm10 10l.94 2.06.94-2.06 2.06-.94-2.06-.94-.94-2.06-.94 2.06-2.06.94z\"/><path d=\"M17.41 7.96l-1.37-1.37c-.4-.4-.92-.59-1.43-.59-.52 0-1.04.2-1.43.59L10.3 9.45l-7.72 7.72c-.78.78-.78 2.05 0 2.83L4 21.41c.39.39.9.59 1.41.59.51 0 1.02-.2 1.41-.59l7.78-7.78 2.81-2.81c.8-.78.8-2.07 0-2.86zM5.41 20L4 18.59l7.72-7.72 1.47 1.35L5.41 20z\"/>\n",
              "  </svg>\n",
              "      </button>\n",
              "      \n",
              "  <style>\n",
              "    .colab-df-container {\n",
              "      display:flex;\n",
              "      flex-wrap:wrap;\n",
              "      gap: 12px;\n",
              "    }\n",
              "\n",
              "    .colab-df-convert {\n",
              "      background-color: #E8F0FE;\n",
              "      border: none;\n",
              "      border-radius: 50%;\n",
              "      cursor: pointer;\n",
              "      display: none;\n",
              "      fill: #1967D2;\n",
              "      height: 32px;\n",
              "      padding: 0 0 0 0;\n",
              "      width: 32px;\n",
              "    }\n",
              "\n",
              "    .colab-df-convert:hover {\n",
              "      background-color: #E2EBFA;\n",
              "      box-shadow: 0px 1px 2px rgba(60, 64, 67, 0.3), 0px 1px 3px 1px rgba(60, 64, 67, 0.15);\n",
              "      fill: #174EA6;\n",
              "    }\n",
              "\n",
              "    [theme=dark] .colab-df-convert {\n",
              "      background-color: #3B4455;\n",
              "      fill: #D2E3FC;\n",
              "    }\n",
              "\n",
              "    [theme=dark] .colab-df-convert:hover {\n",
              "      background-color: #434B5C;\n",
              "      box-shadow: 0px 1px 3px 1px rgba(0, 0, 0, 0.15);\n",
              "      filter: drop-shadow(0px 1px 2px rgba(0, 0, 0, 0.3));\n",
              "      fill: #FFFFFF;\n",
              "    }\n",
              "  </style>\n",
              "\n",
              "      <script>\n",
              "        const buttonEl =\n",
              "          document.querySelector('#df-bd2fcf46-5a3f-4ff8-9b98-618932e14f07 button.colab-df-convert');\n",
              "        buttonEl.style.display =\n",
              "          google.colab.kernel.accessAllowed ? 'block' : 'none';\n",
              "\n",
              "        async function convertToInteractive(key) {\n",
              "          const element = document.querySelector('#df-bd2fcf46-5a3f-4ff8-9b98-618932e14f07');\n",
              "          const dataTable =\n",
              "            await google.colab.kernel.invokeFunction('convertToInteractive',\n",
              "                                                     [key], {});\n",
              "          if (!dataTable) return;\n",
              "\n",
              "          const docLinkHtml = 'Like what you see? Visit the ' +\n",
              "            '<a target=\"_blank\" href=https://colab.research.google.com/notebooks/data_table.ipynb>data table notebook</a>'\n",
              "            + ' to learn more about interactive tables.';\n",
              "          element.innerHTML = '';\n",
              "          dataTable['output_type'] = 'display_data';\n",
              "          await google.colab.output.renderOutput(dataTable, element);\n",
              "          const docLink = document.createElement('div');\n",
              "          docLink.innerHTML = docLinkHtml;\n",
              "          element.appendChild(docLink);\n",
              "        }\n",
              "      </script>\n",
              "    </div>\n",
              "  </div>\n",
              "  "
            ]
          },
          "metadata": {},
          "execution_count": 111
        }
      ]
    },
    {
      "cell_type": "code",
      "source": [
        "df.iloc[0:5, 1:3]"
      ],
      "metadata": {
        "colab": {
          "base_uri": "https://localhost:8080/",
          "height": 206
        },
        "id": "4KESt1YXwW09",
        "outputId": "cc41c03e-56c6-4857-b022-689539673b14"
      },
      "execution_count": 112,
      "outputs": [
        {
          "output_type": "execute_result",
          "data": {
            "text/plain": [
              "   Age  Education\n",
              "0   30         14\n",
              "1   18         12\n",
              "2   21         12\n",
              "3   31         16\n",
              "4   29         15"
            ],
            "text/html": [
              "\n",
              "  <div id=\"df-7b6b5529-e84c-4f53-bcc5-3f37e3dc9dce\">\n",
              "    <div class=\"colab-df-container\">\n",
              "      <div>\n",
              "<style scoped>\n",
              "    .dataframe tbody tr th:only-of-type {\n",
              "        vertical-align: middle;\n",
              "    }\n",
              "\n",
              "    .dataframe tbody tr th {\n",
              "        vertical-align: top;\n",
              "    }\n",
              "\n",
              "    .dataframe thead th {\n",
              "        text-align: right;\n",
              "    }\n",
              "</style>\n",
              "<table border=\"1\" class=\"dataframe\">\n",
              "  <thead>\n",
              "    <tr style=\"text-align: right;\">\n",
              "      <th></th>\n",
              "      <th>Age</th>\n",
              "      <th>Education</th>\n",
              "    </tr>\n",
              "  </thead>\n",
              "  <tbody>\n",
              "    <tr>\n",
              "      <th>0</th>\n",
              "      <td>30</td>\n",
              "      <td>14</td>\n",
              "    </tr>\n",
              "    <tr>\n",
              "      <th>1</th>\n",
              "      <td>18</td>\n",
              "      <td>12</td>\n",
              "    </tr>\n",
              "    <tr>\n",
              "      <th>2</th>\n",
              "      <td>21</td>\n",
              "      <td>12</td>\n",
              "    </tr>\n",
              "    <tr>\n",
              "      <th>3</th>\n",
              "      <td>31</td>\n",
              "      <td>16</td>\n",
              "    </tr>\n",
              "    <tr>\n",
              "      <th>4</th>\n",
              "      <td>29</td>\n",
              "      <td>15</td>\n",
              "    </tr>\n",
              "  </tbody>\n",
              "</table>\n",
              "</div>\n",
              "      <button class=\"colab-df-convert\" onclick=\"convertToInteractive('df-7b6b5529-e84c-4f53-bcc5-3f37e3dc9dce')\"\n",
              "              title=\"Convert this dataframe to an interactive table.\"\n",
              "              style=\"display:none;\">\n",
              "        \n",
              "  <svg xmlns=\"http://www.w3.org/2000/svg\" height=\"24px\"viewBox=\"0 0 24 24\"\n",
              "       width=\"24px\">\n",
              "    <path d=\"M0 0h24v24H0V0z\" fill=\"none\"/>\n",
              "    <path d=\"M18.56 5.44l.94 2.06.94-2.06 2.06-.94-2.06-.94-.94-2.06-.94 2.06-2.06.94zm-11 1L8.5 8.5l.94-2.06 2.06-.94-2.06-.94L8.5 2.5l-.94 2.06-2.06.94zm10 10l.94 2.06.94-2.06 2.06-.94-2.06-.94-.94-2.06-.94 2.06-2.06.94z\"/><path d=\"M17.41 7.96l-1.37-1.37c-.4-.4-.92-.59-1.43-.59-.52 0-1.04.2-1.43.59L10.3 9.45l-7.72 7.72c-.78.78-.78 2.05 0 2.83L4 21.41c.39.39.9.59 1.41.59.51 0 1.02-.2 1.41-.59l7.78-7.78 2.81-2.81c.8-.78.8-2.07 0-2.86zM5.41 20L4 18.59l7.72-7.72 1.47 1.35L5.41 20z\"/>\n",
              "  </svg>\n",
              "      </button>\n",
              "      \n",
              "  <style>\n",
              "    .colab-df-container {\n",
              "      display:flex;\n",
              "      flex-wrap:wrap;\n",
              "      gap: 12px;\n",
              "    }\n",
              "\n",
              "    .colab-df-convert {\n",
              "      background-color: #E8F0FE;\n",
              "      border: none;\n",
              "      border-radius: 50%;\n",
              "      cursor: pointer;\n",
              "      display: none;\n",
              "      fill: #1967D2;\n",
              "      height: 32px;\n",
              "      padding: 0 0 0 0;\n",
              "      width: 32px;\n",
              "    }\n",
              "\n",
              "    .colab-df-convert:hover {\n",
              "      background-color: #E2EBFA;\n",
              "      box-shadow: 0px 1px 2px rgba(60, 64, 67, 0.3), 0px 1px 3px 1px rgba(60, 64, 67, 0.15);\n",
              "      fill: #174EA6;\n",
              "    }\n",
              "\n",
              "    [theme=dark] .colab-df-convert {\n",
              "      background-color: #3B4455;\n",
              "      fill: #D2E3FC;\n",
              "    }\n",
              "\n",
              "    [theme=dark] .colab-df-convert:hover {\n",
              "      background-color: #434B5C;\n",
              "      box-shadow: 0px 1px 3px 1px rgba(0, 0, 0, 0.15);\n",
              "      filter: drop-shadow(0px 1px 2px rgba(0, 0, 0, 0.3));\n",
              "      fill: #FFFFFF;\n",
              "    }\n",
              "  </style>\n",
              "\n",
              "      <script>\n",
              "        const buttonEl =\n",
              "          document.querySelector('#df-7b6b5529-e84c-4f53-bcc5-3f37e3dc9dce button.colab-df-convert');\n",
              "        buttonEl.style.display =\n",
              "          google.colab.kernel.accessAllowed ? 'block' : 'none';\n",
              "\n",
              "        async function convertToInteractive(key) {\n",
              "          const element = document.querySelector('#df-7b6b5529-e84c-4f53-bcc5-3f37e3dc9dce');\n",
              "          const dataTable =\n",
              "            await google.colab.kernel.invokeFunction('convertToInteractive',\n",
              "                                                     [key], {});\n",
              "          if (!dataTable) return;\n",
              "\n",
              "          const docLinkHtml = 'Like what you see? Visit the ' +\n",
              "            '<a target=\"_blank\" href=https://colab.research.google.com/notebooks/data_table.ipynb>data table notebook</a>'\n",
              "            + ' to learn more about interactive tables.';\n",
              "          element.innerHTML = '';\n",
              "          dataTable['output_type'] = 'display_data';\n",
              "          await google.colab.output.renderOutput(dataTable, element);\n",
              "          const docLink = document.createElement('div');\n",
              "          docLink.innerHTML = docLinkHtml;\n",
              "          element.appendChild(docLink);\n",
              "        }\n",
              "      </script>\n",
              "    </div>\n",
              "  </div>\n",
              "  "
            ]
          },
          "metadata": {},
          "execution_count": 112
        }
      ]
    },
    {
      "cell_type": "code",
      "source": [
        "df.iloc[2:5]"
      ],
      "metadata": {
        "colab": {
          "base_uri": "https://localhost:8080/",
          "height": 143
        },
        "id": "wpSEbuKexhlF",
        "outputId": "e65d0d8f-a856-4221-de00-d3afedce678f"
      },
      "execution_count": 113,
      "outputs": [
        {
          "output_type": "execute_result",
          "data": {
            "text/plain": [
              "     Name  Age  Education\n",
              "2   Brian   21         12\n",
              "3  Helena   31         16\n",
              "4     Sam   29         15"
            ],
            "text/html": [
              "\n",
              "  <div id=\"df-345a7859-f675-4bc4-954f-5fe16ac21a53\">\n",
              "    <div class=\"colab-df-container\">\n",
              "      <div>\n",
              "<style scoped>\n",
              "    .dataframe tbody tr th:only-of-type {\n",
              "        vertical-align: middle;\n",
              "    }\n",
              "\n",
              "    .dataframe tbody tr th {\n",
              "        vertical-align: top;\n",
              "    }\n",
              "\n",
              "    .dataframe thead th {\n",
              "        text-align: right;\n",
              "    }\n",
              "</style>\n",
              "<table border=\"1\" class=\"dataframe\">\n",
              "  <thead>\n",
              "    <tr style=\"text-align: right;\">\n",
              "      <th></th>\n",
              "      <th>Name</th>\n",
              "      <th>Age</th>\n",
              "      <th>Education</th>\n",
              "    </tr>\n",
              "  </thead>\n",
              "  <tbody>\n",
              "    <tr>\n",
              "      <th>2</th>\n",
              "      <td>Brian</td>\n",
              "      <td>21</td>\n",
              "      <td>12</td>\n",
              "    </tr>\n",
              "    <tr>\n",
              "      <th>3</th>\n",
              "      <td>Helena</td>\n",
              "      <td>31</td>\n",
              "      <td>16</td>\n",
              "    </tr>\n",
              "    <tr>\n",
              "      <th>4</th>\n",
              "      <td>Sam</td>\n",
              "      <td>29</td>\n",
              "      <td>15</td>\n",
              "    </tr>\n",
              "  </tbody>\n",
              "</table>\n",
              "</div>\n",
              "      <button class=\"colab-df-convert\" onclick=\"convertToInteractive('df-345a7859-f675-4bc4-954f-5fe16ac21a53')\"\n",
              "              title=\"Convert this dataframe to an interactive table.\"\n",
              "              style=\"display:none;\">\n",
              "        \n",
              "  <svg xmlns=\"http://www.w3.org/2000/svg\" height=\"24px\"viewBox=\"0 0 24 24\"\n",
              "       width=\"24px\">\n",
              "    <path d=\"M0 0h24v24H0V0z\" fill=\"none\"/>\n",
              "    <path d=\"M18.56 5.44l.94 2.06.94-2.06 2.06-.94-2.06-.94-.94-2.06-.94 2.06-2.06.94zm-11 1L8.5 8.5l.94-2.06 2.06-.94-2.06-.94L8.5 2.5l-.94 2.06-2.06.94zm10 10l.94 2.06.94-2.06 2.06-.94-2.06-.94-.94-2.06-.94 2.06-2.06.94z\"/><path d=\"M17.41 7.96l-1.37-1.37c-.4-.4-.92-.59-1.43-.59-.52 0-1.04.2-1.43.59L10.3 9.45l-7.72 7.72c-.78.78-.78 2.05 0 2.83L4 21.41c.39.39.9.59 1.41.59.51 0 1.02-.2 1.41-.59l7.78-7.78 2.81-2.81c.8-.78.8-2.07 0-2.86zM5.41 20L4 18.59l7.72-7.72 1.47 1.35L5.41 20z\"/>\n",
              "  </svg>\n",
              "      </button>\n",
              "      \n",
              "  <style>\n",
              "    .colab-df-container {\n",
              "      display:flex;\n",
              "      flex-wrap:wrap;\n",
              "      gap: 12px;\n",
              "    }\n",
              "\n",
              "    .colab-df-convert {\n",
              "      background-color: #E8F0FE;\n",
              "      border: none;\n",
              "      border-radius: 50%;\n",
              "      cursor: pointer;\n",
              "      display: none;\n",
              "      fill: #1967D2;\n",
              "      height: 32px;\n",
              "      padding: 0 0 0 0;\n",
              "      width: 32px;\n",
              "    }\n",
              "\n",
              "    .colab-df-convert:hover {\n",
              "      background-color: #E2EBFA;\n",
              "      box-shadow: 0px 1px 2px rgba(60, 64, 67, 0.3), 0px 1px 3px 1px rgba(60, 64, 67, 0.15);\n",
              "      fill: #174EA6;\n",
              "    }\n",
              "\n",
              "    [theme=dark] .colab-df-convert {\n",
              "      background-color: #3B4455;\n",
              "      fill: #D2E3FC;\n",
              "    }\n",
              "\n",
              "    [theme=dark] .colab-df-convert:hover {\n",
              "      background-color: #434B5C;\n",
              "      box-shadow: 0px 1px 3px 1px rgba(0, 0, 0, 0.15);\n",
              "      filter: drop-shadow(0px 1px 2px rgba(0, 0, 0, 0.3));\n",
              "      fill: #FFFFFF;\n",
              "    }\n",
              "  </style>\n",
              "\n",
              "      <script>\n",
              "        const buttonEl =\n",
              "          document.querySelector('#df-345a7859-f675-4bc4-954f-5fe16ac21a53 button.colab-df-convert');\n",
              "        buttonEl.style.display =\n",
              "          google.colab.kernel.accessAllowed ? 'block' : 'none';\n",
              "\n",
              "        async function convertToInteractive(key) {\n",
              "          const element = document.querySelector('#df-345a7859-f675-4bc4-954f-5fe16ac21a53');\n",
              "          const dataTable =\n",
              "            await google.colab.kernel.invokeFunction('convertToInteractive',\n",
              "                                                     [key], {});\n",
              "          if (!dataTable) return;\n",
              "\n",
              "          const docLinkHtml = 'Like what you see? Visit the ' +\n",
              "            '<a target=\"_blank\" href=https://colab.research.google.com/notebooks/data_table.ipynb>data table notebook</a>'\n",
              "            + ' to learn more about interactive tables.';\n",
              "          element.innerHTML = '';\n",
              "          dataTable['output_type'] = 'display_data';\n",
              "          await google.colab.output.renderOutput(dataTable, element);\n",
              "          const docLink = document.createElement('div');\n",
              "          docLink.innerHTML = docLinkHtml;\n",
              "          element.appendChild(docLink);\n",
              "        }\n",
              "      </script>\n",
              "    </div>\n",
              "  </div>\n",
              "  "
            ]
          },
          "metadata": {},
          "execution_count": 113
        }
      ]
    },
    {
      "cell_type": "code",
      "source": [
        "df.iloc[[2, 4, 6]]"
      ],
      "metadata": {
        "colab": {
          "base_uri": "https://localhost:8080/",
          "height": 143
        },
        "id": "I0gLj8D6yFit",
        "outputId": "3a5de0cb-1f7f-4deb-e934-ff0a429ca8e7"
      },
      "execution_count": 114,
      "outputs": [
        {
          "output_type": "execute_result",
          "data": {
            "text/plain": [
              "        Name  Age  Education\n",
              "2      Brian   21         12\n",
              "4        Sam   29         15\n",
              "6  Christina   21         18"
            ],
            "text/html": [
              "\n",
              "  <div id=\"df-7f0c71be-aa2a-46cc-ab00-32d64da8e00c\">\n",
              "    <div class=\"colab-df-container\">\n",
              "      <div>\n",
              "<style scoped>\n",
              "    .dataframe tbody tr th:only-of-type {\n",
              "        vertical-align: middle;\n",
              "    }\n",
              "\n",
              "    .dataframe tbody tr th {\n",
              "        vertical-align: top;\n",
              "    }\n",
              "\n",
              "    .dataframe thead th {\n",
              "        text-align: right;\n",
              "    }\n",
              "</style>\n",
              "<table border=\"1\" class=\"dataframe\">\n",
              "  <thead>\n",
              "    <tr style=\"text-align: right;\">\n",
              "      <th></th>\n",
              "      <th>Name</th>\n",
              "      <th>Age</th>\n",
              "      <th>Education</th>\n",
              "    </tr>\n",
              "  </thead>\n",
              "  <tbody>\n",
              "    <tr>\n",
              "      <th>2</th>\n",
              "      <td>Brian</td>\n",
              "      <td>21</td>\n",
              "      <td>12</td>\n",
              "    </tr>\n",
              "    <tr>\n",
              "      <th>4</th>\n",
              "      <td>Sam</td>\n",
              "      <td>29</td>\n",
              "      <td>15</td>\n",
              "    </tr>\n",
              "    <tr>\n",
              "      <th>6</th>\n",
              "      <td>Christina</td>\n",
              "      <td>21</td>\n",
              "      <td>18</td>\n",
              "    </tr>\n",
              "  </tbody>\n",
              "</table>\n",
              "</div>\n",
              "      <button class=\"colab-df-convert\" onclick=\"convertToInteractive('df-7f0c71be-aa2a-46cc-ab00-32d64da8e00c')\"\n",
              "              title=\"Convert this dataframe to an interactive table.\"\n",
              "              style=\"display:none;\">\n",
              "        \n",
              "  <svg xmlns=\"http://www.w3.org/2000/svg\" height=\"24px\"viewBox=\"0 0 24 24\"\n",
              "       width=\"24px\">\n",
              "    <path d=\"M0 0h24v24H0V0z\" fill=\"none\"/>\n",
              "    <path d=\"M18.56 5.44l.94 2.06.94-2.06 2.06-.94-2.06-.94-.94-2.06-.94 2.06-2.06.94zm-11 1L8.5 8.5l.94-2.06 2.06-.94-2.06-.94L8.5 2.5l-.94 2.06-2.06.94zm10 10l.94 2.06.94-2.06 2.06-.94-2.06-.94-.94-2.06-.94 2.06-2.06.94z\"/><path d=\"M17.41 7.96l-1.37-1.37c-.4-.4-.92-.59-1.43-.59-.52 0-1.04.2-1.43.59L10.3 9.45l-7.72 7.72c-.78.78-.78 2.05 0 2.83L4 21.41c.39.39.9.59 1.41.59.51 0 1.02-.2 1.41-.59l7.78-7.78 2.81-2.81c.8-.78.8-2.07 0-2.86zM5.41 20L4 18.59l7.72-7.72 1.47 1.35L5.41 20z\"/>\n",
              "  </svg>\n",
              "      </button>\n",
              "      \n",
              "  <style>\n",
              "    .colab-df-container {\n",
              "      display:flex;\n",
              "      flex-wrap:wrap;\n",
              "      gap: 12px;\n",
              "    }\n",
              "\n",
              "    .colab-df-convert {\n",
              "      background-color: #E8F0FE;\n",
              "      border: none;\n",
              "      border-radius: 50%;\n",
              "      cursor: pointer;\n",
              "      display: none;\n",
              "      fill: #1967D2;\n",
              "      height: 32px;\n",
              "      padding: 0 0 0 0;\n",
              "      width: 32px;\n",
              "    }\n",
              "\n",
              "    .colab-df-convert:hover {\n",
              "      background-color: #E2EBFA;\n",
              "      box-shadow: 0px 1px 2px rgba(60, 64, 67, 0.3), 0px 1px 3px 1px rgba(60, 64, 67, 0.15);\n",
              "      fill: #174EA6;\n",
              "    }\n",
              "\n",
              "    [theme=dark] .colab-df-convert {\n",
              "      background-color: #3B4455;\n",
              "      fill: #D2E3FC;\n",
              "    }\n",
              "\n",
              "    [theme=dark] .colab-df-convert:hover {\n",
              "      background-color: #434B5C;\n",
              "      box-shadow: 0px 1px 3px 1px rgba(0, 0, 0, 0.15);\n",
              "      filter: drop-shadow(0px 1px 2px rgba(0, 0, 0, 0.3));\n",
              "      fill: #FFFFFF;\n",
              "    }\n",
              "  </style>\n",
              "\n",
              "      <script>\n",
              "        const buttonEl =\n",
              "          document.querySelector('#df-7f0c71be-aa2a-46cc-ab00-32d64da8e00c button.colab-df-convert');\n",
              "        buttonEl.style.display =\n",
              "          google.colab.kernel.accessAllowed ? 'block' : 'none';\n",
              "\n",
              "        async function convertToInteractive(key) {\n",
              "          const element = document.querySelector('#df-7f0c71be-aa2a-46cc-ab00-32d64da8e00c');\n",
              "          const dataTable =\n",
              "            await google.colab.kernel.invokeFunction('convertToInteractive',\n",
              "                                                     [key], {});\n",
              "          if (!dataTable) return;\n",
              "\n",
              "          const docLinkHtml = 'Like what you see? Visit the ' +\n",
              "            '<a target=\"_blank\" href=https://colab.research.google.com/notebooks/data_table.ipynb>data table notebook</a>'\n",
              "            + ' to learn more about interactive tables.';\n",
              "          element.innerHTML = '';\n",
              "          dataTable['output_type'] = 'display_data';\n",
              "          await google.colab.output.renderOutput(dataTable, element);\n",
              "          const docLink = document.createElement('div');\n",
              "          docLink.innerHTML = docLinkHtml;\n",
              "          element.appendChild(docLink);\n",
              "        }\n",
              "      </script>\n",
              "    </div>\n",
              "  </div>\n",
              "  "
            ]
          },
          "metadata": {},
          "execution_count": 114
        }
      ]
    },
    {
      "cell_type": "code",
      "source": [
        "df.loc[4:6, ['Name', 'Age']]"
      ],
      "metadata": {
        "colab": {
          "base_uri": "https://localhost:8080/",
          "height": 143
        },
        "id": "_q5WwsWgyWlc",
        "outputId": "3634ebfe-035c-4b50-c65d-30acb92aa5d0"
      },
      "execution_count": 115,
      "outputs": [
        {
          "output_type": "execute_result",
          "data": {
            "text/plain": [
              "        Name  Age\n",
              "4        Sam   29\n",
              "5     Victor   35\n",
              "6  Christina   21"
            ],
            "text/html": [
              "\n",
              "  <div id=\"df-df19875d-1408-454d-80e6-38e5bc9cd211\">\n",
              "    <div class=\"colab-df-container\">\n",
              "      <div>\n",
              "<style scoped>\n",
              "    .dataframe tbody tr th:only-of-type {\n",
              "        vertical-align: middle;\n",
              "    }\n",
              "\n",
              "    .dataframe tbody tr th {\n",
              "        vertical-align: top;\n",
              "    }\n",
              "\n",
              "    .dataframe thead th {\n",
              "        text-align: right;\n",
              "    }\n",
              "</style>\n",
              "<table border=\"1\" class=\"dataframe\">\n",
              "  <thead>\n",
              "    <tr style=\"text-align: right;\">\n",
              "      <th></th>\n",
              "      <th>Name</th>\n",
              "      <th>Age</th>\n",
              "    </tr>\n",
              "  </thead>\n",
              "  <tbody>\n",
              "    <tr>\n",
              "      <th>4</th>\n",
              "      <td>Sam</td>\n",
              "      <td>29</td>\n",
              "    </tr>\n",
              "    <tr>\n",
              "      <th>5</th>\n",
              "      <td>Victor</td>\n",
              "      <td>35</td>\n",
              "    </tr>\n",
              "    <tr>\n",
              "      <th>6</th>\n",
              "      <td>Christina</td>\n",
              "      <td>21</td>\n",
              "    </tr>\n",
              "  </tbody>\n",
              "</table>\n",
              "</div>\n",
              "      <button class=\"colab-df-convert\" onclick=\"convertToInteractive('df-df19875d-1408-454d-80e6-38e5bc9cd211')\"\n",
              "              title=\"Convert this dataframe to an interactive table.\"\n",
              "              style=\"display:none;\">\n",
              "        \n",
              "  <svg xmlns=\"http://www.w3.org/2000/svg\" height=\"24px\"viewBox=\"0 0 24 24\"\n",
              "       width=\"24px\">\n",
              "    <path d=\"M0 0h24v24H0V0z\" fill=\"none\"/>\n",
              "    <path d=\"M18.56 5.44l.94 2.06.94-2.06 2.06-.94-2.06-.94-.94-2.06-.94 2.06-2.06.94zm-11 1L8.5 8.5l.94-2.06 2.06-.94-2.06-.94L8.5 2.5l-.94 2.06-2.06.94zm10 10l.94 2.06.94-2.06 2.06-.94-2.06-.94-.94-2.06-.94 2.06-2.06.94z\"/><path d=\"M17.41 7.96l-1.37-1.37c-.4-.4-.92-.59-1.43-.59-.52 0-1.04.2-1.43.59L10.3 9.45l-7.72 7.72c-.78.78-.78 2.05 0 2.83L4 21.41c.39.39.9.59 1.41.59.51 0 1.02-.2 1.41-.59l7.78-7.78 2.81-2.81c.8-.78.8-2.07 0-2.86zM5.41 20L4 18.59l7.72-7.72 1.47 1.35L5.41 20z\"/>\n",
              "  </svg>\n",
              "      </button>\n",
              "      \n",
              "  <style>\n",
              "    .colab-df-container {\n",
              "      display:flex;\n",
              "      flex-wrap:wrap;\n",
              "      gap: 12px;\n",
              "    }\n",
              "\n",
              "    .colab-df-convert {\n",
              "      background-color: #E8F0FE;\n",
              "      border: none;\n",
              "      border-radius: 50%;\n",
              "      cursor: pointer;\n",
              "      display: none;\n",
              "      fill: #1967D2;\n",
              "      height: 32px;\n",
              "      padding: 0 0 0 0;\n",
              "      width: 32px;\n",
              "    }\n",
              "\n",
              "    .colab-df-convert:hover {\n",
              "      background-color: #E2EBFA;\n",
              "      box-shadow: 0px 1px 2px rgba(60, 64, 67, 0.3), 0px 1px 3px 1px rgba(60, 64, 67, 0.15);\n",
              "      fill: #174EA6;\n",
              "    }\n",
              "\n",
              "    [theme=dark] .colab-df-convert {\n",
              "      background-color: #3B4455;\n",
              "      fill: #D2E3FC;\n",
              "    }\n",
              "\n",
              "    [theme=dark] .colab-df-convert:hover {\n",
              "      background-color: #434B5C;\n",
              "      box-shadow: 0px 1px 3px 1px rgba(0, 0, 0, 0.15);\n",
              "      filter: drop-shadow(0px 1px 2px rgba(0, 0, 0, 0.3));\n",
              "      fill: #FFFFFF;\n",
              "    }\n",
              "  </style>\n",
              "\n",
              "      <script>\n",
              "        const buttonEl =\n",
              "          document.querySelector('#df-df19875d-1408-454d-80e6-38e5bc9cd211 button.colab-df-convert');\n",
              "        buttonEl.style.display =\n",
              "          google.colab.kernel.accessAllowed ? 'block' : 'none';\n",
              "\n",
              "        async function convertToInteractive(key) {\n",
              "          const element = document.querySelector('#df-df19875d-1408-454d-80e6-38e5bc9cd211');\n",
              "          const dataTable =\n",
              "            await google.colab.kernel.invokeFunction('convertToInteractive',\n",
              "                                                     [key], {});\n",
              "          if (!dataTable) return;\n",
              "\n",
              "          const docLinkHtml = 'Like what you see? Visit the ' +\n",
              "            '<a target=\"_blank\" href=https://colab.research.google.com/notebooks/data_table.ipynb>data table notebook</a>'\n",
              "            + ' to learn more about interactive tables.';\n",
              "          element.innerHTML = '';\n",
              "          dataTable['output_type'] = 'display_data';\n",
              "          await google.colab.output.renderOutput(dataTable, element);\n",
              "          const docLink = document.createElement('div');\n",
              "          docLink.innerHTML = docLinkHtml;\n",
              "          element.appendChild(docLink);\n",
              "        }\n",
              "      </script>\n",
              "    </div>\n",
              "  </div>\n",
              "  "
            ]
          },
          "metadata": {},
          "execution_count": 115
        }
      ]
    },
    {
      "cell_type": "code",
      "source": [
        "df.loc[[2, 6], ['Name', 'Age']]"
      ],
      "metadata": {
        "colab": {
          "base_uri": "https://localhost:8080/",
          "height": 112
        },
        "id": "a3tn5dZcyvVV",
        "outputId": "5b702c65-1e15-4cf0-f3f3-f6cefe1ce2f8"
      },
      "execution_count": 116,
      "outputs": [
        {
          "output_type": "execute_result",
          "data": {
            "text/plain": [
              "        Name  Age\n",
              "2      Brian   21\n",
              "6  Christina   21"
            ],
            "text/html": [
              "\n",
              "  <div id=\"df-e9188e77-7a53-4beb-87ad-e29ae9dc740c\">\n",
              "    <div class=\"colab-df-container\">\n",
              "      <div>\n",
              "<style scoped>\n",
              "    .dataframe tbody tr th:only-of-type {\n",
              "        vertical-align: middle;\n",
              "    }\n",
              "\n",
              "    .dataframe tbody tr th {\n",
              "        vertical-align: top;\n",
              "    }\n",
              "\n",
              "    .dataframe thead th {\n",
              "        text-align: right;\n",
              "    }\n",
              "</style>\n",
              "<table border=\"1\" class=\"dataframe\">\n",
              "  <thead>\n",
              "    <tr style=\"text-align: right;\">\n",
              "      <th></th>\n",
              "      <th>Name</th>\n",
              "      <th>Age</th>\n",
              "    </tr>\n",
              "  </thead>\n",
              "  <tbody>\n",
              "    <tr>\n",
              "      <th>2</th>\n",
              "      <td>Brian</td>\n",
              "      <td>21</td>\n",
              "    </tr>\n",
              "    <tr>\n",
              "      <th>6</th>\n",
              "      <td>Christina</td>\n",
              "      <td>21</td>\n",
              "    </tr>\n",
              "  </tbody>\n",
              "</table>\n",
              "</div>\n",
              "      <button class=\"colab-df-convert\" onclick=\"convertToInteractive('df-e9188e77-7a53-4beb-87ad-e29ae9dc740c')\"\n",
              "              title=\"Convert this dataframe to an interactive table.\"\n",
              "              style=\"display:none;\">\n",
              "        \n",
              "  <svg xmlns=\"http://www.w3.org/2000/svg\" height=\"24px\"viewBox=\"0 0 24 24\"\n",
              "       width=\"24px\">\n",
              "    <path d=\"M0 0h24v24H0V0z\" fill=\"none\"/>\n",
              "    <path d=\"M18.56 5.44l.94 2.06.94-2.06 2.06-.94-2.06-.94-.94-2.06-.94 2.06-2.06.94zm-11 1L8.5 8.5l.94-2.06 2.06-.94-2.06-.94L8.5 2.5l-.94 2.06-2.06.94zm10 10l.94 2.06.94-2.06 2.06-.94-2.06-.94-.94-2.06-.94 2.06-2.06.94z\"/><path d=\"M17.41 7.96l-1.37-1.37c-.4-.4-.92-.59-1.43-.59-.52 0-1.04.2-1.43.59L10.3 9.45l-7.72 7.72c-.78.78-.78 2.05 0 2.83L4 21.41c.39.39.9.59 1.41.59.51 0 1.02-.2 1.41-.59l7.78-7.78 2.81-2.81c.8-.78.8-2.07 0-2.86zM5.41 20L4 18.59l7.72-7.72 1.47 1.35L5.41 20z\"/>\n",
              "  </svg>\n",
              "      </button>\n",
              "      \n",
              "  <style>\n",
              "    .colab-df-container {\n",
              "      display:flex;\n",
              "      flex-wrap:wrap;\n",
              "      gap: 12px;\n",
              "    }\n",
              "\n",
              "    .colab-df-convert {\n",
              "      background-color: #E8F0FE;\n",
              "      border: none;\n",
              "      border-radius: 50%;\n",
              "      cursor: pointer;\n",
              "      display: none;\n",
              "      fill: #1967D2;\n",
              "      height: 32px;\n",
              "      padding: 0 0 0 0;\n",
              "      width: 32px;\n",
              "    }\n",
              "\n",
              "    .colab-df-convert:hover {\n",
              "      background-color: #E2EBFA;\n",
              "      box-shadow: 0px 1px 2px rgba(60, 64, 67, 0.3), 0px 1px 3px 1px rgba(60, 64, 67, 0.15);\n",
              "      fill: #174EA6;\n",
              "    }\n",
              "\n",
              "    [theme=dark] .colab-df-convert {\n",
              "      background-color: #3B4455;\n",
              "      fill: #D2E3FC;\n",
              "    }\n",
              "\n",
              "    [theme=dark] .colab-df-convert:hover {\n",
              "      background-color: #434B5C;\n",
              "      box-shadow: 0px 1px 3px 1px rgba(0, 0, 0, 0.15);\n",
              "      filter: drop-shadow(0px 1px 2px rgba(0, 0, 0, 0.3));\n",
              "      fill: #FFFFFF;\n",
              "    }\n",
              "  </style>\n",
              "\n",
              "      <script>\n",
              "        const buttonEl =\n",
              "          document.querySelector('#df-e9188e77-7a53-4beb-87ad-e29ae9dc740c button.colab-df-convert');\n",
              "        buttonEl.style.display =\n",
              "          google.colab.kernel.accessAllowed ? 'block' : 'none';\n",
              "\n",
              "        async function convertToInteractive(key) {\n",
              "          const element = document.querySelector('#df-e9188e77-7a53-4beb-87ad-e29ae9dc740c');\n",
              "          const dataTable =\n",
              "            await google.colab.kernel.invokeFunction('convertToInteractive',\n",
              "                                                     [key], {});\n",
              "          if (!dataTable) return;\n",
              "\n",
              "          const docLinkHtml = 'Like what you see? Visit the ' +\n",
              "            '<a target=\"_blank\" href=https://colab.research.google.com/notebooks/data_table.ipynb>data table notebook</a>'\n",
              "            + ' to learn more about interactive tables.';\n",
              "          element.innerHTML = '';\n",
              "          dataTable['output_type'] = 'display_data';\n",
              "          await google.colab.output.renderOutput(dataTable, element);\n",
              "          const docLink = document.createElement('div');\n",
              "          docLink.innerHTML = docLinkHtml;\n",
              "          element.appendChild(docLink);\n",
              "        }\n",
              "      </script>\n",
              "    </div>\n",
              "  </div>\n",
              "  "
            ]
          },
          "metadata": {},
          "execution_count": 116
        }
      ]
    },
    {
      "cell_type": "code",
      "source": [
        "df.loc[df['Age'] > 30] # conditioning on age"
      ],
      "metadata": {
        "colab": {
          "base_uri": "https://localhost:8080/",
          "height": 175
        },
        "id": "x0H8sqF_0HTd",
        "outputId": "d93f74b1-5381-4757-8fba-fb6d44af3e0b"
      },
      "execution_count": 117,
      "outputs": [
        {
          "output_type": "execute_result",
          "data": {
            "text/plain": [
              "     Name  Age  Education\n",
              "3  Helena   31         16\n",
              "5  Victor   35         14\n",
              "7   Peter   34         15\n",
              "8  Markus   43         16"
            ],
            "text/html": [
              "\n",
              "  <div id=\"df-1bc0741f-c7ab-40a6-a048-0bd1394ebafe\">\n",
              "    <div class=\"colab-df-container\">\n",
              "      <div>\n",
              "<style scoped>\n",
              "    .dataframe tbody tr th:only-of-type {\n",
              "        vertical-align: middle;\n",
              "    }\n",
              "\n",
              "    .dataframe tbody tr th {\n",
              "        vertical-align: top;\n",
              "    }\n",
              "\n",
              "    .dataframe thead th {\n",
              "        text-align: right;\n",
              "    }\n",
              "</style>\n",
              "<table border=\"1\" class=\"dataframe\">\n",
              "  <thead>\n",
              "    <tr style=\"text-align: right;\">\n",
              "      <th></th>\n",
              "      <th>Name</th>\n",
              "      <th>Age</th>\n",
              "      <th>Education</th>\n",
              "    </tr>\n",
              "  </thead>\n",
              "  <tbody>\n",
              "    <tr>\n",
              "      <th>3</th>\n",
              "      <td>Helena</td>\n",
              "      <td>31</td>\n",
              "      <td>16</td>\n",
              "    </tr>\n",
              "    <tr>\n",
              "      <th>5</th>\n",
              "      <td>Victor</td>\n",
              "      <td>35</td>\n",
              "      <td>14</td>\n",
              "    </tr>\n",
              "    <tr>\n",
              "      <th>7</th>\n",
              "      <td>Peter</td>\n",
              "      <td>34</td>\n",
              "      <td>15</td>\n",
              "    </tr>\n",
              "    <tr>\n",
              "      <th>8</th>\n",
              "      <td>Markus</td>\n",
              "      <td>43</td>\n",
              "      <td>16</td>\n",
              "    </tr>\n",
              "  </tbody>\n",
              "</table>\n",
              "</div>\n",
              "      <button class=\"colab-df-convert\" onclick=\"convertToInteractive('df-1bc0741f-c7ab-40a6-a048-0bd1394ebafe')\"\n",
              "              title=\"Convert this dataframe to an interactive table.\"\n",
              "              style=\"display:none;\">\n",
              "        \n",
              "  <svg xmlns=\"http://www.w3.org/2000/svg\" height=\"24px\"viewBox=\"0 0 24 24\"\n",
              "       width=\"24px\">\n",
              "    <path d=\"M0 0h24v24H0V0z\" fill=\"none\"/>\n",
              "    <path d=\"M18.56 5.44l.94 2.06.94-2.06 2.06-.94-2.06-.94-.94-2.06-.94 2.06-2.06.94zm-11 1L8.5 8.5l.94-2.06 2.06-.94-2.06-.94L8.5 2.5l-.94 2.06-2.06.94zm10 10l.94 2.06.94-2.06 2.06-.94-2.06-.94-.94-2.06-.94 2.06-2.06.94z\"/><path d=\"M17.41 7.96l-1.37-1.37c-.4-.4-.92-.59-1.43-.59-.52 0-1.04.2-1.43.59L10.3 9.45l-7.72 7.72c-.78.78-.78 2.05 0 2.83L4 21.41c.39.39.9.59 1.41.59.51 0 1.02-.2 1.41-.59l7.78-7.78 2.81-2.81c.8-.78.8-2.07 0-2.86zM5.41 20L4 18.59l7.72-7.72 1.47 1.35L5.41 20z\"/>\n",
              "  </svg>\n",
              "      </button>\n",
              "      \n",
              "  <style>\n",
              "    .colab-df-container {\n",
              "      display:flex;\n",
              "      flex-wrap:wrap;\n",
              "      gap: 12px;\n",
              "    }\n",
              "\n",
              "    .colab-df-convert {\n",
              "      background-color: #E8F0FE;\n",
              "      border: none;\n",
              "      border-radius: 50%;\n",
              "      cursor: pointer;\n",
              "      display: none;\n",
              "      fill: #1967D2;\n",
              "      height: 32px;\n",
              "      padding: 0 0 0 0;\n",
              "      width: 32px;\n",
              "    }\n",
              "\n",
              "    .colab-df-convert:hover {\n",
              "      background-color: #E2EBFA;\n",
              "      box-shadow: 0px 1px 2px rgba(60, 64, 67, 0.3), 0px 1px 3px 1px rgba(60, 64, 67, 0.15);\n",
              "      fill: #174EA6;\n",
              "    }\n",
              "\n",
              "    [theme=dark] .colab-df-convert {\n",
              "      background-color: #3B4455;\n",
              "      fill: #D2E3FC;\n",
              "    }\n",
              "\n",
              "    [theme=dark] .colab-df-convert:hover {\n",
              "      background-color: #434B5C;\n",
              "      box-shadow: 0px 1px 3px 1px rgba(0, 0, 0, 0.15);\n",
              "      filter: drop-shadow(0px 1px 2px rgba(0, 0, 0, 0.3));\n",
              "      fill: #FFFFFF;\n",
              "    }\n",
              "  </style>\n",
              "\n",
              "      <script>\n",
              "        const buttonEl =\n",
              "          document.querySelector('#df-1bc0741f-c7ab-40a6-a048-0bd1394ebafe button.colab-df-convert');\n",
              "        buttonEl.style.display =\n",
              "          google.colab.kernel.accessAllowed ? 'block' : 'none';\n",
              "\n",
              "        async function convertToInteractive(key) {\n",
              "          const element = document.querySelector('#df-1bc0741f-c7ab-40a6-a048-0bd1394ebafe');\n",
              "          const dataTable =\n",
              "            await google.colab.kernel.invokeFunction('convertToInteractive',\n",
              "                                                     [key], {});\n",
              "          if (!dataTable) return;\n",
              "\n",
              "          const docLinkHtml = 'Like what you see? Visit the ' +\n",
              "            '<a target=\"_blank\" href=https://colab.research.google.com/notebooks/data_table.ipynb>data table notebook</a>'\n",
              "            + ' to learn more about interactive tables.';\n",
              "          element.innerHTML = '';\n",
              "          dataTable['output_type'] = 'display_data';\n",
              "          await google.colab.output.renderOutput(dataTable, element);\n",
              "          const docLink = document.createElement('div');\n",
              "          docLink.innerHTML = docLinkHtml;\n",
              "          element.appendChild(docLink);\n",
              "        }\n",
              "      </script>\n",
              "    </div>\n",
              "  </div>\n",
              "  "
            ]
          },
          "metadata": {},
          "execution_count": 117
        }
      ]
    },
    {
      "cell_type": "code",
      "source": [
        "df.loc[(df['Age'] > 20) & (df['Education'] > 14)] # conditioning on age and education"
      ],
      "metadata": {
        "colab": {
          "base_uri": "https://localhost:8080/",
          "height": 206
        },
        "id": "hN6JORvT0RW1",
        "outputId": "453b861c-2c2a-42df-cf43-b6c8827c2ac1"
      },
      "execution_count": 118,
      "outputs": [
        {
          "output_type": "execute_result",
          "data": {
            "text/plain": [
              "        Name  Age  Education\n",
              "3     Helena   31         16\n",
              "4        Sam   29         15\n",
              "6  Christina   21         18\n",
              "7      Peter   34         15\n",
              "8     Markus   43         16"
            ],
            "text/html": [
              "\n",
              "  <div id=\"df-b4a75b7c-13da-416f-8950-d31deded797f\">\n",
              "    <div class=\"colab-df-container\">\n",
              "      <div>\n",
              "<style scoped>\n",
              "    .dataframe tbody tr th:only-of-type {\n",
              "        vertical-align: middle;\n",
              "    }\n",
              "\n",
              "    .dataframe tbody tr th {\n",
              "        vertical-align: top;\n",
              "    }\n",
              "\n",
              "    .dataframe thead th {\n",
              "        text-align: right;\n",
              "    }\n",
              "</style>\n",
              "<table border=\"1\" class=\"dataframe\">\n",
              "  <thead>\n",
              "    <tr style=\"text-align: right;\">\n",
              "      <th></th>\n",
              "      <th>Name</th>\n",
              "      <th>Age</th>\n",
              "      <th>Education</th>\n",
              "    </tr>\n",
              "  </thead>\n",
              "  <tbody>\n",
              "    <tr>\n",
              "      <th>3</th>\n",
              "      <td>Helena</td>\n",
              "      <td>31</td>\n",
              "      <td>16</td>\n",
              "    </tr>\n",
              "    <tr>\n",
              "      <th>4</th>\n",
              "      <td>Sam</td>\n",
              "      <td>29</td>\n",
              "      <td>15</td>\n",
              "    </tr>\n",
              "    <tr>\n",
              "      <th>6</th>\n",
              "      <td>Christina</td>\n",
              "      <td>21</td>\n",
              "      <td>18</td>\n",
              "    </tr>\n",
              "    <tr>\n",
              "      <th>7</th>\n",
              "      <td>Peter</td>\n",
              "      <td>34</td>\n",
              "      <td>15</td>\n",
              "    </tr>\n",
              "    <tr>\n",
              "      <th>8</th>\n",
              "      <td>Markus</td>\n",
              "      <td>43</td>\n",
              "      <td>16</td>\n",
              "    </tr>\n",
              "  </tbody>\n",
              "</table>\n",
              "</div>\n",
              "      <button class=\"colab-df-convert\" onclick=\"convertToInteractive('df-b4a75b7c-13da-416f-8950-d31deded797f')\"\n",
              "              title=\"Convert this dataframe to an interactive table.\"\n",
              "              style=\"display:none;\">\n",
              "        \n",
              "  <svg xmlns=\"http://www.w3.org/2000/svg\" height=\"24px\"viewBox=\"0 0 24 24\"\n",
              "       width=\"24px\">\n",
              "    <path d=\"M0 0h24v24H0V0z\" fill=\"none\"/>\n",
              "    <path d=\"M18.56 5.44l.94 2.06.94-2.06 2.06-.94-2.06-.94-.94-2.06-.94 2.06-2.06.94zm-11 1L8.5 8.5l.94-2.06 2.06-.94-2.06-.94L8.5 2.5l-.94 2.06-2.06.94zm10 10l.94 2.06.94-2.06 2.06-.94-2.06-.94-.94-2.06-.94 2.06-2.06.94z\"/><path d=\"M17.41 7.96l-1.37-1.37c-.4-.4-.92-.59-1.43-.59-.52 0-1.04.2-1.43.59L10.3 9.45l-7.72 7.72c-.78.78-.78 2.05 0 2.83L4 21.41c.39.39.9.59 1.41.59.51 0 1.02-.2 1.41-.59l7.78-7.78 2.81-2.81c.8-.78.8-2.07 0-2.86zM5.41 20L4 18.59l7.72-7.72 1.47 1.35L5.41 20z\"/>\n",
              "  </svg>\n",
              "      </button>\n",
              "      \n",
              "  <style>\n",
              "    .colab-df-container {\n",
              "      display:flex;\n",
              "      flex-wrap:wrap;\n",
              "      gap: 12px;\n",
              "    }\n",
              "\n",
              "    .colab-df-convert {\n",
              "      background-color: #E8F0FE;\n",
              "      border: none;\n",
              "      border-radius: 50%;\n",
              "      cursor: pointer;\n",
              "      display: none;\n",
              "      fill: #1967D2;\n",
              "      height: 32px;\n",
              "      padding: 0 0 0 0;\n",
              "      width: 32px;\n",
              "    }\n",
              "\n",
              "    .colab-df-convert:hover {\n",
              "      background-color: #E2EBFA;\n",
              "      box-shadow: 0px 1px 2px rgba(60, 64, 67, 0.3), 0px 1px 3px 1px rgba(60, 64, 67, 0.15);\n",
              "      fill: #174EA6;\n",
              "    }\n",
              "\n",
              "    [theme=dark] .colab-df-convert {\n",
              "      background-color: #3B4455;\n",
              "      fill: #D2E3FC;\n",
              "    }\n",
              "\n",
              "    [theme=dark] .colab-df-convert:hover {\n",
              "      background-color: #434B5C;\n",
              "      box-shadow: 0px 1px 3px 1px rgba(0, 0, 0, 0.15);\n",
              "      filter: drop-shadow(0px 1px 2px rgba(0, 0, 0, 0.3));\n",
              "      fill: #FFFFFF;\n",
              "    }\n",
              "  </style>\n",
              "\n",
              "      <script>\n",
              "        const buttonEl =\n",
              "          document.querySelector('#df-b4a75b7c-13da-416f-8950-d31deded797f button.colab-df-convert');\n",
              "        buttonEl.style.display =\n",
              "          google.colab.kernel.accessAllowed ? 'block' : 'none';\n",
              "\n",
              "        async function convertToInteractive(key) {\n",
              "          const element = document.querySelector('#df-b4a75b7c-13da-416f-8950-d31deded797f');\n",
              "          const dataTable =\n",
              "            await google.colab.kernel.invokeFunction('convertToInteractive',\n",
              "                                                     [key], {});\n",
              "          if (!dataTable) return;\n",
              "\n",
              "          const docLinkHtml = 'Like what you see? Visit the ' +\n",
              "            '<a target=\"_blank\" href=https://colab.research.google.com/notebooks/data_table.ipynb>data table notebook</a>'\n",
              "            + ' to learn more about interactive tables.';\n",
              "          element.innerHTML = '';\n",
              "          dataTable['output_type'] = 'display_data';\n",
              "          await google.colab.output.renderOutput(dataTable, element);\n",
              "          const docLink = document.createElement('div');\n",
              "          docLink.innerHTML = docLinkHtml;\n",
              "          element.appendChild(docLink);\n",
              "        }\n",
              "      </script>\n",
              "    </div>\n",
              "  </div>\n",
              "  "
            ]
          },
          "metadata": {},
          "execution_count": 118
        }
      ]
    },
    {
      "cell_type": "code",
      "source": [
        "df.loc[(df['Age'] > 30) & (df['Education'] > 15), ['Age', 'Education']] # conditioning on age and education + pick specific columns"
      ],
      "metadata": {
        "colab": {
          "base_uri": "https://localhost:8080/",
          "height": 112
        },
        "id": "8ZoBK7Ob0i49",
        "outputId": "9d295ab1-dc32-4fa3-bf2a-9fb2b6b30a73"
      },
      "execution_count": 119,
      "outputs": [
        {
          "output_type": "execute_result",
          "data": {
            "text/plain": [
              "   Age  Education\n",
              "3   31         16\n",
              "8   43         16"
            ],
            "text/html": [
              "\n",
              "  <div id=\"df-58e495f6-5d6a-4167-9cd2-a1c90ab61132\">\n",
              "    <div class=\"colab-df-container\">\n",
              "      <div>\n",
              "<style scoped>\n",
              "    .dataframe tbody tr th:only-of-type {\n",
              "        vertical-align: middle;\n",
              "    }\n",
              "\n",
              "    .dataframe tbody tr th {\n",
              "        vertical-align: top;\n",
              "    }\n",
              "\n",
              "    .dataframe thead th {\n",
              "        text-align: right;\n",
              "    }\n",
              "</style>\n",
              "<table border=\"1\" class=\"dataframe\">\n",
              "  <thead>\n",
              "    <tr style=\"text-align: right;\">\n",
              "      <th></th>\n",
              "      <th>Age</th>\n",
              "      <th>Education</th>\n",
              "    </tr>\n",
              "  </thead>\n",
              "  <tbody>\n",
              "    <tr>\n",
              "      <th>3</th>\n",
              "      <td>31</td>\n",
              "      <td>16</td>\n",
              "    </tr>\n",
              "    <tr>\n",
              "      <th>8</th>\n",
              "      <td>43</td>\n",
              "      <td>16</td>\n",
              "    </tr>\n",
              "  </tbody>\n",
              "</table>\n",
              "</div>\n",
              "      <button class=\"colab-df-convert\" onclick=\"convertToInteractive('df-58e495f6-5d6a-4167-9cd2-a1c90ab61132')\"\n",
              "              title=\"Convert this dataframe to an interactive table.\"\n",
              "              style=\"display:none;\">\n",
              "        \n",
              "  <svg xmlns=\"http://www.w3.org/2000/svg\" height=\"24px\"viewBox=\"0 0 24 24\"\n",
              "       width=\"24px\">\n",
              "    <path d=\"M0 0h24v24H0V0z\" fill=\"none\"/>\n",
              "    <path d=\"M18.56 5.44l.94 2.06.94-2.06 2.06-.94-2.06-.94-.94-2.06-.94 2.06-2.06.94zm-11 1L8.5 8.5l.94-2.06 2.06-.94-2.06-.94L8.5 2.5l-.94 2.06-2.06.94zm10 10l.94 2.06.94-2.06 2.06-.94-2.06-.94-.94-2.06-.94 2.06-2.06.94z\"/><path d=\"M17.41 7.96l-1.37-1.37c-.4-.4-.92-.59-1.43-.59-.52 0-1.04.2-1.43.59L10.3 9.45l-7.72 7.72c-.78.78-.78 2.05 0 2.83L4 21.41c.39.39.9.59 1.41.59.51 0 1.02-.2 1.41-.59l7.78-7.78 2.81-2.81c.8-.78.8-2.07 0-2.86zM5.41 20L4 18.59l7.72-7.72 1.47 1.35L5.41 20z\"/>\n",
              "  </svg>\n",
              "      </button>\n",
              "      \n",
              "  <style>\n",
              "    .colab-df-container {\n",
              "      display:flex;\n",
              "      flex-wrap:wrap;\n",
              "      gap: 12px;\n",
              "    }\n",
              "\n",
              "    .colab-df-convert {\n",
              "      background-color: #E8F0FE;\n",
              "      border: none;\n",
              "      border-radius: 50%;\n",
              "      cursor: pointer;\n",
              "      display: none;\n",
              "      fill: #1967D2;\n",
              "      height: 32px;\n",
              "      padding: 0 0 0 0;\n",
              "      width: 32px;\n",
              "    }\n",
              "\n",
              "    .colab-df-convert:hover {\n",
              "      background-color: #E2EBFA;\n",
              "      box-shadow: 0px 1px 2px rgba(60, 64, 67, 0.3), 0px 1px 3px 1px rgba(60, 64, 67, 0.15);\n",
              "      fill: #174EA6;\n",
              "    }\n",
              "\n",
              "    [theme=dark] .colab-df-convert {\n",
              "      background-color: #3B4455;\n",
              "      fill: #D2E3FC;\n",
              "    }\n",
              "\n",
              "    [theme=dark] .colab-df-convert:hover {\n",
              "      background-color: #434B5C;\n",
              "      box-shadow: 0px 1px 3px 1px rgba(0, 0, 0, 0.15);\n",
              "      filter: drop-shadow(0px 1px 2px rgba(0, 0, 0, 0.3));\n",
              "      fill: #FFFFFF;\n",
              "    }\n",
              "  </style>\n",
              "\n",
              "      <script>\n",
              "        const buttonEl =\n",
              "          document.querySelector('#df-58e495f6-5d6a-4167-9cd2-a1c90ab61132 button.colab-df-convert');\n",
              "        buttonEl.style.display =\n",
              "          google.colab.kernel.accessAllowed ? 'block' : 'none';\n",
              "\n",
              "        async function convertToInteractive(key) {\n",
              "          const element = document.querySelector('#df-58e495f6-5d6a-4167-9cd2-a1c90ab61132');\n",
              "          const dataTable =\n",
              "            await google.colab.kernel.invokeFunction('convertToInteractive',\n",
              "                                                     [key], {});\n",
              "          if (!dataTable) return;\n",
              "\n",
              "          const docLinkHtml = 'Like what you see? Visit the ' +\n",
              "            '<a target=\"_blank\" href=https://colab.research.google.com/notebooks/data_table.ipynb>data table notebook</a>'\n",
              "            + ' to learn more about interactive tables.';\n",
              "          element.innerHTML = '';\n",
              "          dataTable['output_type'] = 'display_data';\n",
              "          await google.colab.output.renderOutput(dataTable, element);\n",
              "          const docLink = document.createElement('div');\n",
              "          docLink.innerHTML = docLinkHtml;\n",
              "          element.appendChild(docLink);\n",
              "        }\n",
              "      </script>\n",
              "    </div>\n",
              "  </div>\n",
              "  "
            ]
          },
          "metadata": {},
          "execution_count": 119
        }
      ]
    },
    {
      "cell_type": "code",
      "source": [
        "df.loc[df['Name'] == 'Olaf', 'Age'] = None # assign Nan value to Olaf"
      ],
      "metadata": {
        "id": "-Z03NLE_1d9I"
      },
      "execution_count": 120,
      "outputs": []
    },
    {
      "cell_type": "code",
      "source": [
        "print(df)"
      ],
      "metadata": {
        "id": "g23bvxiM5Wwd",
        "colab": {
          "base_uri": "https://localhost:8080/"
        },
        "outputId": "01523b70-6a82-4ad2-87e5-cf85b1c6c193"
      },
      "execution_count": 121,
      "outputs": [
        {
          "output_type": "stream",
          "name": "stdout",
          "text": [
            "         Name   Age  Education\n",
            "0        Alex  30.0         14\n",
            "1        John  18.0         12\n",
            "2       Brian  21.0         12\n",
            "3      Helena  31.0         16\n",
            "4         Sam  29.0         15\n",
            "5      Victor  35.0         14\n",
            "6   Christina  21.0         18\n",
            "7       Peter  34.0         15\n",
            "8      Markus  43.0         16\n",
            "9      Simone  17.0         10\n",
            "10       Olaf   NaN         14\n"
          ]
        }
      ]
    },
    {
      "cell_type": "code",
      "source": [
        "df['Age'] = df['Age'].replace(np.nan, 0) # replace missing values with zeroes"
      ],
      "metadata": {
        "id": "y-RLL85Q6xTV"
      },
      "execution_count": 122,
      "outputs": []
    },
    {
      "cell_type": "code",
      "source": [
        "mean_value = df['Age'].mean()\n",
        "\n",
        "df['Age'].fillna(value = mean_value, inplace = True) # replace missing values with average of Age\n",
        "\n",
        "print(df)"
      ],
      "metadata": {
        "id": "OV5Fkxvy7lGw",
        "colab": {
          "base_uri": "https://localhost:8080/"
        },
        "outputId": "82f8a9f9-2a34-4f06-97ff-76f307539de5"
      },
      "execution_count": 123,
      "outputs": [
        {
          "output_type": "stream",
          "name": "stdout",
          "text": [
            "         Name   Age  Education\n",
            "0        Alex  30.0         14\n",
            "1        John  18.0         12\n",
            "2       Brian  21.0         12\n",
            "3      Helena  31.0         16\n",
            "4         Sam  29.0         15\n",
            "5      Victor  35.0         14\n",
            "6   Christina  21.0         18\n",
            "7       Peter  34.0         15\n",
            "8      Markus  43.0         16\n",
            "9      Simone  17.0         10\n",
            "10       Olaf   0.0         14\n"
          ]
        }
      ]
    },
    {
      "cell_type": "code",
      "source": [
        "df.describe() # summary statistic"
      ],
      "metadata": {
        "id": "xZcFHG1j-4Pm",
        "colab": {
          "base_uri": "https://localhost:8080/",
          "height": 300
        },
        "outputId": "e015c4c8-3b40-4cbb-9d38-1c0860c9c8dc"
      },
      "execution_count": 124,
      "outputs": [
        {
          "output_type": "execute_result",
          "data": {
            "text/plain": [
              "             Age  Education\n",
              "count  11.000000  11.000000\n",
              "mean   25.363636  14.181818\n",
              "std    11.621297   2.227922\n",
              "min     0.000000  10.000000\n",
              "25%    19.500000  13.000000\n",
              "50%    29.000000  14.000000\n",
              "75%    32.500000  15.500000\n",
              "max    43.000000  18.000000"
            ],
            "text/html": [
              "\n",
              "  <div id=\"df-36e50ac7-98eb-4642-a6aa-08fe2ba24de4\">\n",
              "    <div class=\"colab-df-container\">\n",
              "      <div>\n",
              "<style scoped>\n",
              "    .dataframe tbody tr th:only-of-type {\n",
              "        vertical-align: middle;\n",
              "    }\n",
              "\n",
              "    .dataframe tbody tr th {\n",
              "        vertical-align: top;\n",
              "    }\n",
              "\n",
              "    .dataframe thead th {\n",
              "        text-align: right;\n",
              "    }\n",
              "</style>\n",
              "<table border=\"1\" class=\"dataframe\">\n",
              "  <thead>\n",
              "    <tr style=\"text-align: right;\">\n",
              "      <th></th>\n",
              "      <th>Age</th>\n",
              "      <th>Education</th>\n",
              "    </tr>\n",
              "  </thead>\n",
              "  <tbody>\n",
              "    <tr>\n",
              "      <th>count</th>\n",
              "      <td>11.000000</td>\n",
              "      <td>11.000000</td>\n",
              "    </tr>\n",
              "    <tr>\n",
              "      <th>mean</th>\n",
              "      <td>25.363636</td>\n",
              "      <td>14.181818</td>\n",
              "    </tr>\n",
              "    <tr>\n",
              "      <th>std</th>\n",
              "      <td>11.621297</td>\n",
              "      <td>2.227922</td>\n",
              "    </tr>\n",
              "    <tr>\n",
              "      <th>min</th>\n",
              "      <td>0.000000</td>\n",
              "      <td>10.000000</td>\n",
              "    </tr>\n",
              "    <tr>\n",
              "      <th>25%</th>\n",
              "      <td>19.500000</td>\n",
              "      <td>13.000000</td>\n",
              "    </tr>\n",
              "    <tr>\n",
              "      <th>50%</th>\n",
              "      <td>29.000000</td>\n",
              "      <td>14.000000</td>\n",
              "    </tr>\n",
              "    <tr>\n",
              "      <th>75%</th>\n",
              "      <td>32.500000</td>\n",
              "      <td>15.500000</td>\n",
              "    </tr>\n",
              "    <tr>\n",
              "      <th>max</th>\n",
              "      <td>43.000000</td>\n",
              "      <td>18.000000</td>\n",
              "    </tr>\n",
              "  </tbody>\n",
              "</table>\n",
              "</div>\n",
              "      <button class=\"colab-df-convert\" onclick=\"convertToInteractive('df-36e50ac7-98eb-4642-a6aa-08fe2ba24de4')\"\n",
              "              title=\"Convert this dataframe to an interactive table.\"\n",
              "              style=\"display:none;\">\n",
              "        \n",
              "  <svg xmlns=\"http://www.w3.org/2000/svg\" height=\"24px\"viewBox=\"0 0 24 24\"\n",
              "       width=\"24px\">\n",
              "    <path d=\"M0 0h24v24H0V0z\" fill=\"none\"/>\n",
              "    <path d=\"M18.56 5.44l.94 2.06.94-2.06 2.06-.94-2.06-.94-.94-2.06-.94 2.06-2.06.94zm-11 1L8.5 8.5l.94-2.06 2.06-.94-2.06-.94L8.5 2.5l-.94 2.06-2.06.94zm10 10l.94 2.06.94-2.06 2.06-.94-2.06-.94-.94-2.06-.94 2.06-2.06.94z\"/><path d=\"M17.41 7.96l-1.37-1.37c-.4-.4-.92-.59-1.43-.59-.52 0-1.04.2-1.43.59L10.3 9.45l-7.72 7.72c-.78.78-.78 2.05 0 2.83L4 21.41c.39.39.9.59 1.41.59.51 0 1.02-.2 1.41-.59l7.78-7.78 2.81-2.81c.8-.78.8-2.07 0-2.86zM5.41 20L4 18.59l7.72-7.72 1.47 1.35L5.41 20z\"/>\n",
              "  </svg>\n",
              "      </button>\n",
              "      \n",
              "  <style>\n",
              "    .colab-df-container {\n",
              "      display:flex;\n",
              "      flex-wrap:wrap;\n",
              "      gap: 12px;\n",
              "    }\n",
              "\n",
              "    .colab-df-convert {\n",
              "      background-color: #E8F0FE;\n",
              "      border: none;\n",
              "      border-radius: 50%;\n",
              "      cursor: pointer;\n",
              "      display: none;\n",
              "      fill: #1967D2;\n",
              "      height: 32px;\n",
              "      padding: 0 0 0 0;\n",
              "      width: 32px;\n",
              "    }\n",
              "\n",
              "    .colab-df-convert:hover {\n",
              "      background-color: #E2EBFA;\n",
              "      box-shadow: 0px 1px 2px rgba(60, 64, 67, 0.3), 0px 1px 3px 1px rgba(60, 64, 67, 0.15);\n",
              "      fill: #174EA6;\n",
              "    }\n",
              "\n",
              "    [theme=dark] .colab-df-convert {\n",
              "      background-color: #3B4455;\n",
              "      fill: #D2E3FC;\n",
              "    }\n",
              "\n",
              "    [theme=dark] .colab-df-convert:hover {\n",
              "      background-color: #434B5C;\n",
              "      box-shadow: 0px 1px 3px 1px rgba(0, 0, 0, 0.15);\n",
              "      filter: drop-shadow(0px 1px 2px rgba(0, 0, 0, 0.3));\n",
              "      fill: #FFFFFF;\n",
              "    }\n",
              "  </style>\n",
              "\n",
              "      <script>\n",
              "        const buttonEl =\n",
              "          document.querySelector('#df-36e50ac7-98eb-4642-a6aa-08fe2ba24de4 button.colab-df-convert');\n",
              "        buttonEl.style.display =\n",
              "          google.colab.kernel.accessAllowed ? 'block' : 'none';\n",
              "\n",
              "        async function convertToInteractive(key) {\n",
              "          const element = document.querySelector('#df-36e50ac7-98eb-4642-a6aa-08fe2ba24de4');\n",
              "          const dataTable =\n",
              "            await google.colab.kernel.invokeFunction('convertToInteractive',\n",
              "                                                     [key], {});\n",
              "          if (!dataTable) return;\n",
              "\n",
              "          const docLinkHtml = 'Like what you see? Visit the ' +\n",
              "            '<a target=\"_blank\" href=https://colab.research.google.com/notebooks/data_table.ipynb>data table notebook</a>'\n",
              "            + ' to learn more about interactive tables.';\n",
              "          element.innerHTML = '';\n",
              "          dataTable['output_type'] = 'display_data';\n",
              "          await google.colab.output.renderOutput(dataTable, element);\n",
              "          const docLink = document.createElement('div');\n",
              "          docLink.innerHTML = docLinkHtml;\n",
              "          element.appendChild(docLink);\n",
              "        }\n",
              "      </script>\n",
              "    </div>\n",
              "  </div>\n",
              "  "
            ]
          },
          "metadata": {},
          "execution_count": 124
        }
      ]
    },
    {
      "cell_type": "code",
      "source": [
        "df.plot.scatter(x = 'Age', y = 'Education')"
      ],
      "metadata": {
        "id": "zaStWmQ7_b-I",
        "colab": {
          "base_uri": "https://localhost:8080/",
          "height": 296
        },
        "outputId": "c9963f74-3be7-4bd7-910f-40b1da202049"
      },
      "execution_count": 125,
      "outputs": [
        {
          "output_type": "execute_result",
          "data": {
            "text/plain": [
              "<matplotlib.axes._subplots.AxesSubplot at 0x7fab2c8c4590>"
            ]
          },
          "metadata": {},
          "execution_count": 125
        },
        {
          "output_type": "display_data",
          "data": {
            "text/plain": [
              "<Figure size 432x288 with 1 Axes>"
            ],
            "image/png": "[encoded data removed]"
          },
          "metadata": {
            "needs_background": "light"
          }
        }
      ]
    },
    {
      "cell_type": "code",
      "source": [
        "import seaborn as sns"
      ],
      "metadata": {
        "id": "uCr2NikTAEKC"
      },
      "execution_count": 126,
      "outputs": []
    },
    {
      "cell_type": "code",
      "source": [
        "x = df['Age']\n",
        "y = df['Education']"
      ],
      "metadata": {
        "id": "F-ZyWltnAach"
      },
      "execution_count": 127,
      "outputs": []
    },
    {
      "cell_type": "code",
      "source": [
        "sns.regplot(x, y) # create linear regression plot "
      ],
      "metadata": {
        "id": "R1KtZruIAEw5",
        "colab": {
          "base_uri": "https://localhost:8080/",
          "height": 351
        },
        "outputId": "a6fef2c0-283b-46c2-d95a-20eea03e2b16"
      },
      "execution_count": 128,
      "outputs": [
        {
          "output_type": "stream",
          "name": "stderr",
          "text": [
            "/usr/local/lib/python3.7/dist-packages/seaborn/_decorators.py:43: FutureWarning: Pass the following variables as keyword args: x, y. From version 0.12, the only valid positional argument will be `data`, and passing other arguments without an explicit keyword will result in an error or misinterpretation.\n",
            "  FutureWarning\n"
          ]
        },
        {
          "output_type": "execute_result",
          "data": {
            "text/plain": [
              "<matplotlib.axes._subplots.AxesSubplot at 0x7fab1f987d10>"
            ]
          },
          "metadata": {},
          "execution_count": 128
        },
        {
          "output_type": "display_data",
          "data": {
            "text/plain": [
              "<Figure size 432x288 with 1 Axes>"
            ],
            "image/png": "[encoded data removed]"
          },
          "metadata": {
            "needs_background": "light"
          }
        }
      ]
    }
  ]
}